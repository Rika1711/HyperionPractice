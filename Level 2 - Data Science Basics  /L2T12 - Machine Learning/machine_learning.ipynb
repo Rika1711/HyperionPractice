{
 "cells": [
  {
   "cell_type": "markdown",
   "metadata": {
    "id": "IBb6nSAY5T4I"
   },
   "source": [
    "# Machine Learning\n",
    "## Compulsory task"
   ]
  },
  {
   "cell_type": "markdown",
   "metadata": {
    "id": "N02Qu9_f1N45"
   },
   "source": [
    "1. For each of the following examples describe at least one possible input and \n",
    "output. Justify your answers:  \n",
    "* 1.1 A self-driving car\n",
    "* 1.2 Netflix recommendation system\n",
    "* 1.3 Signature recognition\n",
    "* 1.4 Medical diagnosis\n"
   ]
  },
  {
   "cell_type": "markdown",
   "metadata": {
    "id": "-8aBqprP3ypo"
   },
   "source": [
    "1. Answer here\n",
    "\n",
    "|      | Input(s)    | Output     |\n",
    "| ---- | ----------- | ---------  |\n",
    "| 1.1  | Video footage of camera (self driving cars have cameras to determine if there are  obstacles)           | Decreasing of speed (when found obstacle)           |\n",
    "| 1.2  | Rating from other users or other websites - like IMDB (this gives a point of reference of what is popular or generally well likes, and is conveniently put into numbers)            | List of recommended movies - with highest rating (The list can be produced and updated depending on the current ratings of movies)           |\n",
    "| 1.3  | Photo of signature (software can use them to find patterns in strokes, thickness, curves etc of signature)           | Percentage of likelihood of the signature matching a sample signature (e.g. in investigations)           |\n",
    "| 1.4  | List of symptoms (this could work like a boolean variable: a symptom is either present or not)           | Diagnosis (different diseases have different symptoms - presence and duration of symptoms can bring forth a few different possible diseases)          |"
   ]
  },
  {
   "cell_type": "markdown",
   "metadata": {
    "id": "l_I2f4C85yNF"
   },
   "source": [
    "\n",
    "2. For each of the following case studies, determine whether it is appropriate to utilise regression or classification machine learning algorithms. Justify your answers:\n",
    "* 2.1 Classifying emails as promotion or social based on their content and metadata. \n",
    "* 2.2 Forecasting the stock price of a company based on historical data and market trends.\n",
    "* 2.3 Sorting images of animals into different species based on their visual features.\n",
    "* 2.4 Predicting the likelihood of a patient having a particular disease based on medical history and diagnostic test results. "
   ]
  },
  {
   "cell_type": "markdown",
   "metadata": {
    "id": "WgMUsqQr6qFU"
   },
   "source": [
    "2. Answer here\n",
    "* 2.1 Classification - The output is categorical: either promo or social\n",
    "* 2.2 Regression - Input and output are numerical data. \n",
    "* 2.3 Classification - The output is categorical.\n",
    "* 2.4 Classification - Even though the problem asks for likelihood (which would suggest a regression is more helpful), in practice you would categorise. For example: has disease or does not have disease. Or here rather: low chance of having disease, medium chance or high chance."
   ]
  },
  {
   "cell_type": "markdown",
   "metadata": {
    "id": "b6f8UETG64hH"
   },
   "source": [
    "3. For each of the following real-world problems, determine whether it is appropriate to utilise a supervised or unsupervised machine learning algorithm. Justify your answers:\n",
    "* 3.1 Detecting anomalies in a manufacturing process using sensor data without prior knowledge of specific anomaly patterns. \n",
    "* 3.2 Predicting customer lifetime value based on historical transaction data and customer demographics. \n",
    "* 3.3 Segmenting customer demographics based on their purchase history, browsing behaviour, and preferences. \n",
    "* 3.4 Analysing social media posts to categorise them into different themes. \n"
   ]
  },
  {
   "cell_type": "markdown",
   "metadata": {
    "id": "W6dTYBvd675O"
   },
   "source": [
    "3. Answer here\n",
    "* 3.1 Unsupervised learning - Input: unlabelled data; Output: pattern, structures, anomalies\n",
    "* 3.2 Supervised learning - Input: labelled data (most likely); Output: a prediction (Customer lifetime value)\n",
    "* 3.3 Unsupervised learning - The algorithm aims to find patterns in input data and cluster customers into demographic groups  (thus the output is a pattern and not a prediction)\n",
    "* 3.4 Unsupervised learning - Input: most likely unlabelled; algorithm categorises into different themes (thus the output is a pattern, not a prediction)"
   ]
  },
  {
   "cell_type": "markdown",
   "metadata": {
    "id": "bqsun96o64xe"
   },
   "source": [
    "4. \n",
    "For each of the following real-world problems, determine whether it is appropriate to utilise semi-supervised machine learning algorithms. Justify your answers:\n",
    "* 4.1 Predicting fraudulent financial transactions using a dataset where most transactions are labelled as fraudulent or legitimate.\n",
    "* 4.2 Analysing customer satisfaction surveys where only a small portion of the data is labelled with satisfaction ratings.\n",
    "* 4.3 Identifying spam emails in a dataset where the majority of emails are labelled.\n",
    "* 4.4 Predicting the probability of default for credit card applicants based on their complete financial and credit-related information.\n"
   ]
  },
  {
   "cell_type": "markdown",
   "metadata": {
    "id": "aTWugZ6q68GF"
   },
   "source": [
    "4. Answer here\n",
    "* 4.1 maybe appropriate - There is pre-existing, labelled data that is used to train the model; The rest of the data can be labelled and categorised by using that trained model; However, semi-supervised machine learning is most useful if there is just a small amount of labelled data - maybe a supervised learning model would be more appropriate here.\n",
    "* 4.2 appropriate - There is a small amount of labelled data (the satisfaction ratings) that can be used to to train a model that can categorise the unlabelled data (the responses that don't include a rating, but only written responses).\n",
    "* 4.3 maybe appropriate - The algorithm can learn from the previously labelled data and find similar patterns in the unlabelled data and categorise them into groups (spam or not spam). Again, semi-supervised learning models are most useful when there is only a small amount of labelled data.\n",
    "* 4.4 not appropriate - There seems to be plenty of labelled data to use a supervised learning model instead."
   ]
  }
 ],
 "metadata": {
  "colab": {
   "provenance": []
  },
  "kernelspec": {
   "display_name": "Python 3",
   "name": "python3"
  },
  "language_info": {
   "name": "python"
  }
 },
 "nbformat": 4,
 "nbformat_minor": 0
}
