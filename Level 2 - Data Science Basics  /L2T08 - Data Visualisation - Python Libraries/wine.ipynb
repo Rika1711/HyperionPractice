{
 "cells": [
  {
   "cell_type": "markdown",
   "metadata": {},
   "source": [
    "**Data Visualisation Task 2**"
   ]
  },
  {
   "cell_type": "markdown",
   "metadata": {},
   "source": [
    "**Create a multi-plot grid:**  \n",
    "- Filter the dataset to only contain “Cabernet Sauvignon”, “Pinot Noir”, and “Chardonnay” wines.  \n",
    "- Use the variety column.  \n",
    "- Foreach of these three wine varieties, show a histogram plot of the “points” column."
   ]
  },
  {
   "cell_type": "code",
   "execution_count": 1,
   "metadata": {},
   "outputs": [],
   "source": [
    "# Import libraries.\n",
    "import pandas as pd\n",
    "import seaborn as sns"
   ]
  },
  {
   "cell_type": "code",
   "execution_count": 2,
   "metadata": {},
   "outputs": [],
   "source": [
    "# Load data.\n",
    "wine_df = pd.read_csv('wine.csv', index_col = 0, keep_default_na=False) "
   ]
  },
  {
   "cell_type": "code",
   "execution_count": 3,
   "metadata": {},
   "outputs": [
    {
     "data": {
      "text/html": [
       "<div>\n",
       "<style scoped>\n",
       "    .dataframe tbody tr th:only-of-type {\n",
       "        vertical-align: middle;\n",
       "    }\n",
       "\n",
       "    .dataframe tbody tr th {\n",
       "        vertical-align: top;\n",
       "    }\n",
       "\n",
       "    .dataframe thead th {\n",
       "        text-align: right;\n",
       "    }\n",
       "</style>\n",
       "<table border=\"1\" class=\"dataframe\">\n",
       "  <thead>\n",
       "    <tr style=\"text-align: right;\">\n",
       "      <th></th>\n",
       "      <th>country</th>\n",
       "      <th>description</th>\n",
       "      <th>designation</th>\n",
       "      <th>points</th>\n",
       "      <th>price</th>\n",
       "      <th>province</th>\n",
       "      <th>region_1</th>\n",
       "      <th>region_2</th>\n",
       "      <th>variety</th>\n",
       "      <th>winery</th>\n",
       "    </tr>\n",
       "  </thead>\n",
       "  <tbody>\n",
       "    <tr>\n",
       "      <th>781</th>\n",
       "      <td>Italy</td>\n",
       "      <td>Pretty aromas of violet, rose and wild berry l...</td>\n",
       "      <td>Tradizione</td>\n",
       "      <td>87</td>\n",
       "      <td>87</td>\n",
       "      <td>Tuscany</td>\n",
       "      <td>Brunello di Montalcino</td>\n",
       "      <td></td>\n",
       "      <td>Sangiovese</td>\n",
       "      <td>Tenuta Vitanza</td>\n",
       "    </tr>\n",
       "    <tr>\n",
       "      <th>104</th>\n",
       "      <td>US</td>\n",
       "      <td>Fans of stickies may find pleasure in this bot...</td>\n",
       "      <td>Tears of Dew Late Harvest</td>\n",
       "      <td>86</td>\n",
       "      <td>20</td>\n",
       "      <td>California</td>\n",
       "      <td>Paso Robles</td>\n",
       "      <td>Central Coast</td>\n",
       "      <td>Moscato</td>\n",
       "      <td>EOS</td>\n",
       "    </tr>\n",
       "    <tr>\n",
       "      <th>1040</th>\n",
       "      <td>US</td>\n",
       "      <td>This is a lovely, balanced wine, combining gri...</td>\n",
       "      <td>Heather's Vineyard</td>\n",
       "      <td>91</td>\n",
       "      <td>65</td>\n",
       "      <td>Oregon</td>\n",
       "      <td>Chehalem Mountains</td>\n",
       "      <td>Willamette Valley</td>\n",
       "      <td>Pinot Noir</td>\n",
       "      <td>Anam Cara</td>\n",
       "    </tr>\n",
       "    <tr>\n",
       "      <th>554</th>\n",
       "      <td>France</td>\n",
       "      <td>White summer blossoms and ripe green pears mak...</td>\n",
       "      <td>R√©serve</td>\n",
       "      <td>90</td>\n",
       "      <td>20</td>\n",
       "      <td>Alsace</td>\n",
       "      <td>Alsace</td>\n",
       "      <td></td>\n",
       "      <td>Pinot Blanc</td>\n",
       "      <td>Domaine Weinbach</td>\n",
       "    </tr>\n",
       "    <tr>\n",
       "      <th>492</th>\n",
       "      <td>US</td>\n",
       "      <td>The estate reserve gets more new and once-fill...</td>\n",
       "      <td>Nicholas Estate Reserve</td>\n",
       "      <td>89</td>\n",
       "      <td>46</td>\n",
       "      <td>Oregon</td>\n",
       "      <td>Chehalem Mountains</td>\n",
       "      <td>Willamette Valley</td>\n",
       "      <td>Pinot Noir</td>\n",
       "      <td>Anam Cara</td>\n",
       "    </tr>\n",
       "  </tbody>\n",
       "</table>\n",
       "</div>"
      ],
      "text/plain": [
       "     country                                        description  \\\n",
       "781    Italy  Pretty aromas of violet, rose and wild berry l...   \n",
       "104       US  Fans of stickies may find pleasure in this bot...   \n",
       "1040      US  This is a lovely, balanced wine, combining gri...   \n",
       "554   France  White summer blossoms and ripe green pears mak...   \n",
       "492       US  The estate reserve gets more new and once-fill...   \n",
       "\n",
       "                    designation  points price    province  \\\n",
       "781                  Tradizione      87    87     Tuscany   \n",
       "104   Tears of Dew Late Harvest      86    20  California   \n",
       "1040         Heather's Vineyard      91    65      Oregon   \n",
       "554                    R√©serve      90    20      Alsace   \n",
       "492     Nicholas Estate Reserve      89    46      Oregon   \n",
       "\n",
       "                    region_1           region_2      variety            winery  \n",
       "781   Brunello di Montalcino                      Sangiovese    Tenuta Vitanza  \n",
       "104              Paso Robles      Central Coast      Moscato               EOS  \n",
       "1040      Chehalem Mountains  Willamette Valley   Pinot Noir         Anam Cara  \n",
       "554                   Alsace                     Pinot Blanc  Domaine Weinbach  \n",
       "492       Chehalem Mountains  Willamette Valley   Pinot Noir         Anam Cara  "
      ]
     },
     "execution_count": 3,
     "metadata": {},
     "output_type": "execute_result"
    }
   ],
   "source": [
    "# Get sample of data. This helps getting an overview.\n",
    "wine_df.sample(5)"
   ]
  },
  {
   "cell_type": "code",
   "execution_count": 6,
   "metadata": {},
   "outputs": [
    {
     "data": {
      "text/plain": [
       "array(['Cabernet Sauvignon', 'Pinot Noir', 'Chardonnay'], dtype=object)"
      ]
     },
     "execution_count": 6,
     "metadata": {},
     "output_type": "execute_result"
    }
   ],
   "source": [
    "# Filter dataset to only contain Cabernet Sauvignon, Pinot Noir and Chardonnay.\n",
    "sought_variety = wine_df[(wine_df[\"variety\"] == \"Cabernet Sauvignon\") | (wine_df[\"variety\"] == \"Pinot Noir\") | \n",
    "                         (wine_df[\"variety\"] == \"Chardonnay\")]\n",
    "\n",
    "sought_variety['variety'].unique()"
   ]
  },
  {
   "cell_type": "code",
   "execution_count": 5,
   "metadata": {},
   "outputs": [
    {
     "data": {
      "text/plain": [
       "<seaborn.axisgrid.FacetGrid at 0x29390d6a120>"
      ]
     },
     "execution_count": 5,
     "metadata": {},
     "output_type": "execute_result"
    },
    {
     "data": {
      "image/png": "[encoded data removed]",
      "text/plain": [
       "<Figure size 900x300 with 3 Axes>"
      ]
     },
     "metadata": {},
     "output_type": "display_data"
    }
   ],
   "source": [
    "# Show a histogram for each variety of the 'points' column.\n",
    "sns.set_theme(style=\"darkgrid\")\n",
    "grid = sns.FacetGrid(col='variety', hue='variety', data=sought_variety)\n",
    "grid.map(sns.histplot, 'points')"
   ]
  }
 ],
 "metadata": {
  "kernelspec": {
   "display_name": "Python 3",
   "language": "python",
   "name": "python3"
  },
  "language_info": {
   "codemirror_mode": {
    "name": "ipython",
    "version": 3
   },
   "file_extension": ".py",
   "mimetype": "text/x-python",
   "name": "python",
   "nbconvert_exporter": "python",
   "pygments_lexer": "ipython3",
   "version": "3.13.2"
  }
 },
 "nbformat": 4,
 "nbformat_minor": 2
}
