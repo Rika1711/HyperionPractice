{
 "cells": [
  {
   "cell_type": "markdown",
   "metadata": {
    "id": "wWmFBD46S5h_"
   },
   "source": [
    "## Data Preprocessing Examples\n",
    "\n",
    " In this task, we will work on handling missing data as well as data standardisation and normalisation. Data can have missing values for a number of reasons, such as observations that were not collected or data corruption. We will discuss some general considerations for missing data, discuss how pandas chooses to represent it, and demonstrate some built-in pandas tools for handling missing data in Python.\n"
   ]
  },
  {
   "cell_type": "code",
   "execution_count": 38,
   "metadata": {
    "id": "HAWxBtzoS5h1"
   },
   "outputs": [],
   "source": [
    "import pandas as pd\n",
    "import numpy as np\n",
    "\n",
    "# Scaling modules\n",
    "from sklearn.preprocessing import MinMaxScaler, StandardScaler\n",
    "\n",
    "# Plotting modules\n",
    "import seaborn as sns\n",
    "import matplotlib.pyplot as plt\n",
    "\n",
    "# Ensures the same random data is used each time you execute the code\n",
    "np.random.seed(0)\n"
   ]
  },
  {
   "cell_type": "code",
   "execution_count": 39,
   "metadata": {
    "colab": {
     "base_uri": "https://localhost:8080/",
     "height": 304
    },
    "executionInfo": {
     "elapsed": 405,
     "status": "error",
     "timestamp": 1713260437415,
     "user": {
      "displayName": "Bianca Cherkaev",
      "userId": "05472675678669700855"
     },
     "user_tz": -120
    },
    "id": "btxBrfKC0Rp9",
    "outputId": "9a0168b8-0edb-4098-b3ff-4e28513254ad"
   },
   "outputs": [],
   "source": [
    "# Read in data\n",
    "df = pd.read_csv('balance_missing.txt', sep=' ')"
   ]
  },
  {
   "cell_type": "markdown",
   "metadata": {
    "id": "y1KHwSe94XT-"
   },
   "source": [
    "## Working with missing data\n",
    "### Take a first look at the data\n",
    "This should always be the first step during any analysis. Depending on data sources, missing data are identified differently. Pandas identifies missing values as NaN. However, missing values can appear as a question mark (?) or a zero (0) or minus one (-1) or a blank. So it is important to view and understand your data before anything else.\n",
    "\n",
    "We are going to use the dataset `balance_missing.txt`. From the first five observations, we can see there are several missing values. They have been represented as NaN.\n",
    "\n",
    "To start, let’s check the dimensions of the DataFrame to understand its size and then preview the first few rows to get a sense of the data."
   ]
  },
  {
   "cell_type": "code",
   "execution_count": 40,
   "metadata": {
    "id": "XG8G6QOo0RqA",
    "outputId": "e7c19456-0dd9-4aa2-9f53-a87a9a12f84b"
   },
   "outputs": [
    {
     "data": {
      "text/plain": [
       "(400, 11)"
      ]
     },
     "execution_count": 40,
     "metadata": {},
     "output_type": "execute_result"
    }
   ],
   "source": [
    "# Return the number of rows and columns of the DataFrame\n",
    "df.shape"
   ]
  },
  {
   "cell_type": "code",
   "execution_count": 41,
   "metadata": {},
   "outputs": [
    {
     "data": {
      "text/html": [
       "<div>\n",
       "<style scoped>\n",
       "    .dataframe tbody tr th:only-of-type {\n",
       "        vertical-align: middle;\n",
       "    }\n",
       "\n",
       "    .dataframe tbody tr th {\n",
       "        vertical-align: top;\n",
       "    }\n",
       "\n",
       "    .dataframe thead th {\n",
       "        text-align: right;\n",
       "    }\n",
       "</style>\n",
       "<table border=\"1\" class=\"dataframe\">\n",
       "  <thead>\n",
       "    <tr style=\"text-align: right;\">\n",
       "      <th></th>\n",
       "      <th>Balance</th>\n",
       "      <th>Income</th>\n",
       "      <th>Limit</th>\n",
       "      <th>Rating</th>\n",
       "      <th>Cards</th>\n",
       "      <th>Age</th>\n",
       "      <th>Education</th>\n",
       "      <th>Gender</th>\n",
       "      <th>Student</th>\n",
       "      <th>Married</th>\n",
       "      <th>Ethnicity</th>\n",
       "    </tr>\n",
       "  </thead>\n",
       "  <tbody>\n",
       "    <tr>\n",
       "      <th>0</th>\n",
       "      <td>12.2407984760474</td>\n",
       "      <td>14.891</td>\n",
       "      <td>3606</td>\n",
       "      <td>283.0</td>\n",
       "      <td>2.0</td>\n",
       "      <td>NaN</td>\n",
       "      <td>11.0</td>\n",
       "      <td>Male</td>\n",
       "      <td>No</td>\n",
       "      <td>Yes</td>\n",
       "      <td>Caucasian</td>\n",
       "    </tr>\n",
       "    <tr>\n",
       "      <th>1</th>\n",
       "      <td>23.2833339223376</td>\n",
       "      <td>NaN</td>\n",
       "      <td>6645</td>\n",
       "      <td>483.0</td>\n",
       "      <td>3.0</td>\n",
       "      <td>82.0</td>\n",
       "      <td>15.0</td>\n",
       "      <td>Female</td>\n",
       "      <td>NaN</td>\n",
       "      <td>Yes</td>\n",
       "      <td>Asian</td>\n",
       "    </tr>\n",
       "    <tr>\n",
       "      <th>2</th>\n",
       "      <td>22.5304088790893</td>\n",
       "      <td>104.593</td>\n",
       "      <td>7075</td>\n",
       "      <td>NaN</td>\n",
       "      <td>4.0</td>\n",
       "      <td>71.0</td>\n",
       "      <td>11.0</td>\n",
       "      <td>Male</td>\n",
       "      <td>No</td>\n",
       "      <td>No</td>\n",
       "      <td>Asian</td>\n",
       "    </tr>\n",
       "    <tr>\n",
       "      <th>3</th>\n",
       "      <td>27.652810710665</td>\n",
       "      <td>148.924</td>\n",
       "      <td>9504</td>\n",
       "      <td>681.0</td>\n",
       "      <td>3.0</td>\n",
       "      <td>36.0</td>\n",
       "      <td>11.0</td>\n",
       "      <td>NaN</td>\n",
       "      <td>No</td>\n",
       "      <td>No</td>\n",
       "      <td>Asian</td>\n",
       "    </tr>\n",
       "    <tr>\n",
       "      <th>4</th>\n",
       "      <td>16.8939784904888</td>\n",
       "      <td>55.882</td>\n",
       "      <td>4897</td>\n",
       "      <td>357.0</td>\n",
       "      <td>2.0</td>\n",
       "      <td>68.0</td>\n",
       "      <td>16.0</td>\n",
       "      <td>Male</td>\n",
       "      <td>No</td>\n",
       "      <td>Yes</td>\n",
       "      <td>Caucasian</td>\n",
       "    </tr>\n",
       "  </tbody>\n",
       "</table>\n",
       "</div>"
      ],
      "text/plain": [
       "            Balance   Income Limit  Rating  Cards   Age  Education  Gender  \\\n",
       "0  12.2407984760474   14.891  3606   283.0    2.0   NaN       11.0    Male   \n",
       "1  23.2833339223376      NaN  6645   483.0    3.0  82.0       15.0  Female   \n",
       "2  22.5304088790893  104.593  7075     NaN    4.0  71.0       11.0    Male   \n",
       "3   27.652810710665  148.924  9504   681.0    3.0  36.0       11.0     NaN   \n",
       "4  16.8939784904888   55.882  4897   357.0    2.0  68.0       16.0    Male   \n",
       "\n",
       "  Student Married  Ethnicity  \n",
       "0      No     Yes  Caucasian  \n",
       "1     NaN     Yes      Asian  \n",
       "2      No      No      Asian  \n",
       "3      No      No      Asian  \n",
       "4      No     Yes  Caucasian  "
      ]
     },
     "execution_count": 41,
     "metadata": {},
     "output_type": "execute_result"
    }
   ],
   "source": [
    "df.head()"
   ]
  },
  {
   "cell_type": "markdown",
   "metadata": {
    "id": "-2S5AjI5S5iI"
   },
   "source": [
    "How many NaN values can you point out?\n",
    "\n",
    "Now that we have seen that there are missing values, we need to get a sense of how many missing values exist in the whole dataset. We are going to find how many missing values we have in each column.\n"
   ]
  },
  {
   "cell_type": "code",
   "execution_count": 42,
   "metadata": {
    "id": "O2LlSluNS5iL",
    "outputId": "ace0cd28-aa52-4f2d-cf21-11e726e275e0"
   },
   "outputs": [
    {
     "data": {
      "text/plain": [
       "Balance       0\n",
       "Income        6\n",
       "Limit        15\n",
       "Rating       11\n",
       "Cards         1\n",
       "Age          10\n",
       "Education     6\n",
       "Gender        8\n",
       "Student       7\n",
       "Married       3\n",
       "dtype: int64"
      ]
     },
     "execution_count": 42,
     "metadata": {},
     "output_type": "execute_result"
    }
   ],
   "source": [
    "# Get the number of missing data values per column\n",
    "missing_values_count = df.isnull().sum()\n",
    "\n",
    "# Look at the number of missing values in the first ten columns\n",
    "missing_values_count[0:10]"
   ]
  },
  {
   "cell_type": "markdown",
   "metadata": {
    "id": "q2TWaWbbS5iO"
   },
   "source": [
    "To better understand how much data is missing, we can calculate the percentage of all the missing values. If we get a very high percentage, we may be unable to use the data.\n"
   ]
  },
  {
   "cell_type": "code",
   "execution_count": 43,
   "metadata": {
    "id": "zvIlLTN9S5iP",
    "outputId": "0da32cb3-6354-42e5-91ad-9f96a7a75867"
   },
   "outputs": [
    {
     "data": {
      "text/plain": [
       "np.float64(1.7727272727272727)"
      ]
     },
     "execution_count": 43,
     "metadata": {},
     "output_type": "execute_result"
    }
   ],
   "source": [
    "# Total number of missing values\n",
    "total_cells = np.prod(df.shape)\n",
    "total_missing = missing_values_count.sum()\n",
    "\n",
    "# Percent of data that is missing\n",
    "(total_missing/total_cells) * 100\n"
   ]
  },
  {
   "cell_type": "markdown",
   "metadata": {
    "id": "cIDPTi5uS5iR"
   },
   "source": [
    "Only 1.77% of the values are missing.\n",
    "\n",
    "### Drop missing values\n",
    "\n",
    "One option to deal with missing values is to remove any rows or columns that contain missing values. This strategy is not recommended for datasets with important data, sensitive data, or few observations. It's usually worth taking the time to go through your data and interrogate all the columns with missing values to get a proper understanding of your dataset.\n",
    "\n",
    "If you're sure you want to drop rows with missing values, pandas has a handy function, `dropna()` to do this. Let's try it out on our data."
   ]
  },
  {
   "cell_type": "code",
   "execution_count": 44,
   "metadata": {
    "id": "EDOexSCHS5iS",
    "outputId": "ba4fabfa-c2a5-4452-97f3-9f1a8231f28c"
   },
   "outputs": [
    {
     "data": {
      "text/html": [
       "<div>\n",
       "<style scoped>\n",
       "    .dataframe tbody tr th:only-of-type {\n",
       "        vertical-align: middle;\n",
       "    }\n",
       "\n",
       "    .dataframe tbody tr th {\n",
       "        vertical-align: top;\n",
       "    }\n",
       "\n",
       "    .dataframe thead th {\n",
       "        text-align: right;\n",
       "    }\n",
       "</style>\n",
       "<table border=\"1\" class=\"dataframe\">\n",
       "  <thead>\n",
       "    <tr style=\"text-align: right;\">\n",
       "      <th></th>\n",
       "      <th>Balance</th>\n",
       "      <th>Income</th>\n",
       "      <th>Limit</th>\n",
       "      <th>Rating</th>\n",
       "      <th>Cards</th>\n",
       "      <th>Age</th>\n",
       "      <th>Education</th>\n",
       "      <th>Gender</th>\n",
       "      <th>Student</th>\n",
       "      <th>Married</th>\n",
       "      <th>Ethnicity</th>\n",
       "    </tr>\n",
       "  </thead>\n",
       "  <tbody>\n",
       "    <tr>\n",
       "      <th>4</th>\n",
       "      <td>16.8939784904888</td>\n",
       "      <td>55.882</td>\n",
       "      <td>4897</td>\n",
       "      <td>357.0</td>\n",
       "      <td>2.0</td>\n",
       "      <td>68.0</td>\n",
       "      <td>16.0</td>\n",
       "      <td>Male</td>\n",
       "      <td>No</td>\n",
       "      <td>Yes</td>\n",
       "      <td>Caucasian</td>\n",
       "    </tr>\n",
       "    <tr>\n",
       "      <th>5</th>\n",
       "      <td>22.4861776123913</td>\n",
       "      <td>80.18</td>\n",
       "      <td>8047</td>\n",
       "      <td>569.0</td>\n",
       "      <td>4.0</td>\n",
       "      <td>77.0</td>\n",
       "      <td>10.0</td>\n",
       "      <td>Male</td>\n",
       "      <td>No</td>\n",
       "      <td>No</td>\n",
       "      <td>Caucasian</td>\n",
       "    </tr>\n",
       "    <tr>\n",
       "      <th>6</th>\n",
       "      <td>10.5745164367595</td>\n",
       "      <td>20.996</td>\n",
       "      <td>3388</td>\n",
       "      <td>259.0</td>\n",
       "      <td>2.0</td>\n",
       "      <td>37.0</td>\n",
       "      <td>12.0</td>\n",
       "      <td>Female</td>\n",
       "      <td>No</td>\n",
       "      <td>No</td>\n",
       "      <td>African American</td>\n",
       "    </tr>\n",
       "    <tr>\n",
       "      <th>7</th>\n",
       "      <td>14.5762043512884</td>\n",
       "      <td>71.408</td>\n",
       "      <td>7114</td>\n",
       "      <td>512.0</td>\n",
       "      <td>2.0</td>\n",
       "      <td>87.0</td>\n",
       "      <td>9.0</td>\n",
       "      <td>Male</td>\n",
       "      <td>No</td>\n",
       "      <td>No</td>\n",
       "      <td>Asian</td>\n",
       "    </tr>\n",
       "    <tr>\n",
       "      <th>8</th>\n",
       "      <td>7.93809029500252</td>\n",
       "      <td>15.125</td>\n",
       "      <td>3300</td>\n",
       "      <td>266.0</td>\n",
       "      <td>5.0</td>\n",
       "      <td>66.0</td>\n",
       "      <td>13.0</td>\n",
       "      <td>Female</td>\n",
       "      <td>No</td>\n",
       "      <td>No</td>\n",
       "      <td>Caucasian</td>\n",
       "    </tr>\n",
       "  </tbody>\n",
       "</table>\n",
       "</div>"
      ],
      "text/plain": [
       "            Balance  Income Limit  Rating  Cards   Age  Education  Gender  \\\n",
       "4  16.8939784904888  55.882  4897   357.0    2.0  68.0       16.0    Male   \n",
       "5  22.4861776123913   80.18  8047   569.0    4.0  77.0       10.0    Male   \n",
       "6  10.5745164367595  20.996  3388   259.0    2.0  37.0       12.0  Female   \n",
       "7  14.5762043512884  71.408  7114   512.0    2.0  87.0        9.0    Male   \n",
       "8  7.93809029500252  15.125  3300   266.0    5.0  66.0       13.0  Female   \n",
       "\n",
       "  Student Married         Ethnicity  \n",
       "4      No     Yes         Caucasian  \n",
       "5      No      No         Caucasian  \n",
       "6      No      No  African American  \n",
       "7      No      No             Asian  \n",
       "8      No      No         Caucasian  "
      ]
     },
     "execution_count": 44,
     "metadata": {},
     "output_type": "execute_result"
    }
   ],
   "source": [
    "# Create a temporary DataFrame\n",
    "temp_df = df\n",
    "\n",
    "# Remove all the rows that contain a missing value.\n",
    "temp_df.dropna().head()"
   ]
  },
  {
   "cell_type": "markdown",
   "metadata": {
    "id": "WK_poFuQS5iT"
   },
   "source": [
    "As you can see, there are no longer NaN values in the first five observations as these have been dropped from the DataFrame. In fact, all observations with a NaN value in any of the columns have been dropped. Below you can see the number of rows has been reduced to 331 compared to 400 in the original dataset."
   ]
  },
  {
   "cell_type": "code",
   "execution_count": 45,
   "metadata": {
    "id": "AYcCicyw0RqH",
    "outputId": "b5fd769b-6e90-4de2-fd91-611cd5ad3f07"
   },
   "outputs": [
    {
     "data": {
      "text/plain": [
       "(331, 11)"
      ]
     },
     "execution_count": 45,
     "metadata": {},
     "output_type": "execute_result"
    }
   ],
   "source": [
    "temp_df.dropna().shape"
   ]
  },
  {
   "cell_type": "markdown",
   "metadata": {
    "id": "5G2aTx2e0RqI"
   },
   "source": [
    "The above procedure removed observations. Now let us look at removing columns."
   ]
  },
  {
   "cell_type": "code",
   "execution_count": 46,
   "metadata": {
    "id": "Sdg-iRJJS5iV",
    "outputId": "be354658-67b3-4e87-dbb9-ebf887ef79f4"
   },
   "outputs": [
    {
     "data": {
      "text/html": [
       "<div>\n",
       "<style scoped>\n",
       "    .dataframe tbody tr th:only-of-type {\n",
       "        vertical-align: middle;\n",
       "    }\n",
       "\n",
       "    .dataframe tbody tr th {\n",
       "        vertical-align: top;\n",
       "    }\n",
       "\n",
       "    .dataframe thead th {\n",
       "        text-align: right;\n",
       "    }\n",
       "</style>\n",
       "<table border=\"1\" class=\"dataframe\">\n",
       "  <thead>\n",
       "    <tr style=\"text-align: right;\">\n",
       "      <th></th>\n",
       "      <th>Balance</th>\n",
       "    </tr>\n",
       "  </thead>\n",
       "  <tbody>\n",
       "    <tr>\n",
       "      <th>0</th>\n",
       "      <td>12.2407984760474</td>\n",
       "    </tr>\n",
       "    <tr>\n",
       "      <th>1</th>\n",
       "      <td>23.2833339223376</td>\n",
       "    </tr>\n",
       "    <tr>\n",
       "      <th>2</th>\n",
       "      <td>22.5304088790893</td>\n",
       "    </tr>\n",
       "    <tr>\n",
       "      <th>3</th>\n",
       "      <td>27.652810710665</td>\n",
       "    </tr>\n",
       "    <tr>\n",
       "      <th>4</th>\n",
       "      <td>16.8939784904888</td>\n",
       "    </tr>\n",
       "  </tbody>\n",
       "</table>\n",
       "</div>"
      ],
      "text/plain": [
       "            Balance\n",
       "0  12.2407984760474\n",
       "1  23.2833339223376\n",
       "2  22.5304088790893\n",
       "3   27.652810710665\n",
       "4  16.8939784904888"
      ]
     },
     "execution_count": 46,
     "metadata": {},
     "output_type": "execute_result"
    }
   ],
   "source": [
    "# Create a temporary Dataframe\n",
    "temp_df = df\n",
    "\n",
    "# Remove all columns with at least one missing value\n",
    "columns_with_na_dropped = temp_df.dropna(axis=1)\n",
    "columns_with_na_dropped.head()"
   ]
  },
  {
   "cell_type": "markdown",
   "metadata": {
    "id": "dZgpkni9S5iX"
   },
   "source": [
    "Looks like all the columns had at least one missing value except the \"Balance\" column. Losing all columns but one reduces the amount of data you have drastically. This is one of the reasons why removing observations or columns with missing data may not be a good solution. We'll explore other options next."
   ]
  },
  {
   "cell_type": "markdown",
   "metadata": {
    "id": "lz4q1-x3S5iY"
   },
   "source": [
    "### Filling in missing values automatically\n",
    "\n",
    "We can use the pandas `fillna()` function to fill in missing values in a dataframe. One option is to specify what we want the NaN values to be replaced with. Here, we can replace all NaN with 0."
   ]
  },
  {
   "cell_type": "code",
   "execution_count": 47,
   "metadata": {
    "id": "ggkh0Kk1S5iZ",
    "outputId": "9cfd5e94-9069-4154-de91-77cfeefbfad2"
   },
   "outputs": [
    {
     "data": {
      "text/html": [
       "<div>\n",
       "<style scoped>\n",
       "    .dataframe tbody tr th:only-of-type {\n",
       "        vertical-align: middle;\n",
       "    }\n",
       "\n",
       "    .dataframe tbody tr th {\n",
       "        vertical-align: top;\n",
       "    }\n",
       "\n",
       "    .dataframe thead th {\n",
       "        text-align: right;\n",
       "    }\n",
       "</style>\n",
       "<table border=\"1\" class=\"dataframe\">\n",
       "  <thead>\n",
       "    <tr style=\"text-align: right;\">\n",
       "      <th></th>\n",
       "      <th>Balance</th>\n",
       "      <th>Income</th>\n",
       "      <th>Limit</th>\n",
       "      <th>Rating</th>\n",
       "      <th>Cards</th>\n",
       "      <th>Age</th>\n",
       "      <th>Education</th>\n",
       "      <th>Gender</th>\n",
       "      <th>Student</th>\n",
       "      <th>Married</th>\n",
       "      <th>Ethnicity</th>\n",
       "    </tr>\n",
       "  </thead>\n",
       "  <tbody>\n",
       "    <tr>\n",
       "      <th>0</th>\n",
       "      <td>12.2407984760474</td>\n",
       "      <td>14.891</td>\n",
       "      <td>3606</td>\n",
       "      <td>283.0</td>\n",
       "      <td>2.0</td>\n",
       "      <td>0.0</td>\n",
       "      <td>11.0</td>\n",
       "      <td>Male</td>\n",
       "      <td>No</td>\n",
       "      <td>Yes</td>\n",
       "      <td>Caucasian</td>\n",
       "    </tr>\n",
       "    <tr>\n",
       "      <th>1</th>\n",
       "      <td>23.2833339223376</td>\n",
       "      <td>0</td>\n",
       "      <td>6645</td>\n",
       "      <td>483.0</td>\n",
       "      <td>3.0</td>\n",
       "      <td>82.0</td>\n",
       "      <td>15.0</td>\n",
       "      <td>Female</td>\n",
       "      <td>0</td>\n",
       "      <td>Yes</td>\n",
       "      <td>Asian</td>\n",
       "    </tr>\n",
       "    <tr>\n",
       "      <th>2</th>\n",
       "      <td>22.5304088790893</td>\n",
       "      <td>104.593</td>\n",
       "      <td>7075</td>\n",
       "      <td>0.0</td>\n",
       "      <td>4.0</td>\n",
       "      <td>71.0</td>\n",
       "      <td>11.0</td>\n",
       "      <td>Male</td>\n",
       "      <td>No</td>\n",
       "      <td>No</td>\n",
       "      <td>Asian</td>\n",
       "    </tr>\n",
       "    <tr>\n",
       "      <th>3</th>\n",
       "      <td>27.652810710665</td>\n",
       "      <td>148.924</td>\n",
       "      <td>9504</td>\n",
       "      <td>681.0</td>\n",
       "      <td>3.0</td>\n",
       "      <td>36.0</td>\n",
       "      <td>11.0</td>\n",
       "      <td>0</td>\n",
       "      <td>No</td>\n",
       "      <td>No</td>\n",
       "      <td>Asian</td>\n",
       "    </tr>\n",
       "    <tr>\n",
       "      <th>4</th>\n",
       "      <td>16.8939784904888</td>\n",
       "      <td>55.882</td>\n",
       "      <td>4897</td>\n",
       "      <td>357.0</td>\n",
       "      <td>2.0</td>\n",
       "      <td>68.0</td>\n",
       "      <td>16.0</td>\n",
       "      <td>Male</td>\n",
       "      <td>No</td>\n",
       "      <td>Yes</td>\n",
       "      <td>Caucasian</td>\n",
       "    </tr>\n",
       "  </tbody>\n",
       "</table>\n",
       "</div>"
      ],
      "text/plain": [
       "            Balance   Income Limit  Rating  Cards   Age  Education  Gender  \\\n",
       "0  12.2407984760474   14.891  3606   283.0    2.0   0.0       11.0    Male   \n",
       "1  23.2833339223376        0  6645   483.0    3.0  82.0       15.0  Female   \n",
       "2  22.5304088790893  104.593  7075     0.0    4.0  71.0       11.0    Male   \n",
       "3   27.652810710665  148.924  9504   681.0    3.0  36.0       11.0       0   \n",
       "4  16.8939784904888   55.882  4897   357.0    2.0  68.0       16.0    Male   \n",
       "\n",
       "  Student Married  Ethnicity  \n",
       "0      No     Yes  Caucasian  \n",
       "1       0     Yes      Asian  \n",
       "2      No      No      Asian  \n",
       "3      No      No      Asian  \n",
       "4      No     Yes  Caucasian  "
      ]
     },
     "execution_count": 47,
     "metadata": {},
     "output_type": "execute_result"
    }
   ],
   "source": [
    "# Create a temporary DataFrame\n",
    "temp_df = df\n",
    "\n",
    "# Replace all NA's with 0\n",
    "temp_df.fillna(0).head()"
   ]
  },
  {
   "cell_type": "markdown",
   "metadata": {
    "id": "TTm8DwAzS5ic"
   },
   "source": [
    "Another option is to replace the missing values with the values that come just before or just after it in the same column. This can be used in datasets where the observations are in some sorted or logical order."
   ]
  },
  {
   "cell_type": "code",
   "execution_count": 48,
   "metadata": {
    "id": "swR7FThkS5ie",
    "outputId": "7b9724ea-9722-4ffd-beab-a238e22e8a22"
   },
   "outputs": [
    {
     "data": {
      "text/html": [
       "<div>\n",
       "<style scoped>\n",
       "    .dataframe tbody tr th:only-of-type {\n",
       "        vertical-align: middle;\n",
       "    }\n",
       "\n",
       "    .dataframe tbody tr th {\n",
       "        vertical-align: top;\n",
       "    }\n",
       "\n",
       "    .dataframe thead th {\n",
       "        text-align: right;\n",
       "    }\n",
       "</style>\n",
       "<table border=\"1\" class=\"dataframe\">\n",
       "  <thead>\n",
       "    <tr style=\"text-align: right;\">\n",
       "      <th></th>\n",
       "      <th>Balance</th>\n",
       "      <th>Income</th>\n",
       "      <th>Limit</th>\n",
       "      <th>Rating</th>\n",
       "      <th>Cards</th>\n",
       "      <th>Age</th>\n",
       "      <th>Education</th>\n",
       "      <th>Gender</th>\n",
       "      <th>Student</th>\n",
       "      <th>Married</th>\n",
       "      <th>Ethnicity</th>\n",
       "    </tr>\n",
       "  </thead>\n",
       "  <tbody>\n",
       "    <tr>\n",
       "      <th>0</th>\n",
       "      <td>12.2407984760474</td>\n",
       "      <td>14.891</td>\n",
       "      <td>3606</td>\n",
       "      <td>283.0</td>\n",
       "      <td>2.0</td>\n",
       "      <td>82.0</td>\n",
       "      <td>11.0</td>\n",
       "      <td>Male</td>\n",
       "      <td>No</td>\n",
       "      <td>Yes</td>\n",
       "      <td>Caucasian</td>\n",
       "    </tr>\n",
       "    <tr>\n",
       "      <th>1</th>\n",
       "      <td>23.2833339223376</td>\n",
       "      <td>104.593</td>\n",
       "      <td>6645</td>\n",
       "      <td>483.0</td>\n",
       "      <td>3.0</td>\n",
       "      <td>82.0</td>\n",
       "      <td>15.0</td>\n",
       "      <td>Female</td>\n",
       "      <td>No</td>\n",
       "      <td>Yes</td>\n",
       "      <td>Asian</td>\n",
       "    </tr>\n",
       "    <tr>\n",
       "      <th>2</th>\n",
       "      <td>22.5304088790893</td>\n",
       "      <td>104.593</td>\n",
       "      <td>7075</td>\n",
       "      <td>681.0</td>\n",
       "      <td>4.0</td>\n",
       "      <td>71.0</td>\n",
       "      <td>11.0</td>\n",
       "      <td>Male</td>\n",
       "      <td>No</td>\n",
       "      <td>No</td>\n",
       "      <td>Asian</td>\n",
       "    </tr>\n",
       "    <tr>\n",
       "      <th>3</th>\n",
       "      <td>27.652810710665</td>\n",
       "      <td>148.924</td>\n",
       "      <td>9504</td>\n",
       "      <td>681.0</td>\n",
       "      <td>3.0</td>\n",
       "      <td>36.0</td>\n",
       "      <td>11.0</td>\n",
       "      <td>Male</td>\n",
       "      <td>No</td>\n",
       "      <td>No</td>\n",
       "      <td>Asian</td>\n",
       "    </tr>\n",
       "    <tr>\n",
       "      <th>4</th>\n",
       "      <td>16.8939784904888</td>\n",
       "      <td>55.882</td>\n",
       "      <td>4897</td>\n",
       "      <td>357.0</td>\n",
       "      <td>2.0</td>\n",
       "      <td>68.0</td>\n",
       "      <td>16.0</td>\n",
       "      <td>Male</td>\n",
       "      <td>No</td>\n",
       "      <td>Yes</td>\n",
       "      <td>Caucasian</td>\n",
       "    </tr>\n",
       "  </tbody>\n",
       "</table>\n",
       "</div>"
      ],
      "text/plain": [
       "            Balance   Income Limit  Rating  Cards   Age  Education  Gender  \\\n",
       "0  12.2407984760474   14.891  3606   283.0    2.0  82.0       11.0    Male   \n",
       "1  23.2833339223376  104.593  6645   483.0    3.0  82.0       15.0  Female   \n",
       "2  22.5304088790893  104.593  7075   681.0    4.0  71.0       11.0    Male   \n",
       "3   27.652810710665  148.924  9504   681.0    3.0  36.0       11.0    Male   \n",
       "4  16.8939784904888   55.882  4897   357.0    2.0  68.0       16.0    Male   \n",
       "\n",
       "  Student Married  Ethnicity  \n",
       "0      No     Yes  Caucasian  \n",
       "1      No     Yes      Asian  \n",
       "2      No      No      Asian  \n",
       "3      No      No      Asian  \n",
       "4      No     Yes  Caucasian  "
      ]
     },
     "execution_count": 48,
     "metadata": {},
     "output_type": "execute_result"
    }
   ],
   "source": [
    "# Create a temporary dataframe\n",
    "temp_df = df\n",
    "\n",
    "# Replace all NaN's with the value that comes directly after it in the same column,\n",
    "# then replace all the remaining NaN's with 0\n",
    "\n",
    "# Use bfill() method to fill NaN values with the next value in the column\n",
    "temp_df = temp_df.bfill(axis=0)\n",
    "\n",
    "# Then fill any remaining NaN values with 0\n",
    "temp_df = temp_df.fillna(0)\n",
    "\n",
    "temp_df.head()"
   ]
  },
  {
   "cell_type": "markdown",
   "metadata": {
    "id": "rH7VLp2Yiru6"
   },
   "source": [
    "### Feature Scaling Recap\n",
    "\n",
    "Feature scaling is a technique used to transform the values of features so that they lie within a similar range or scale. This process is important in data preprocessing and analysis because it ensures that all features are comparable and contributes equally to subsequent analyses. The two main methods of feature scaling are **standardisation** and **normalisation**.\n",
    "\n",
    "#### Standardisation vs. Normalisation: What’s the Difference?\n",
    "\n",
    "Standardisation and normalisation both adjust the scale of features, but they do so in different ways:\n",
    "\n",
    "- **Standardisation** (also known as Z-score normalisation) transforms the data to have a mean of 0 and a standard deviation of 1. This method centres the data distribution around zero and scales it to have a unit variance. Standardisation is useful when the data has different scales or when you want to bring features to a common scale while preserving the distribution’s shape. It is beneficial when dealing with data that might have outliers or different units of measurement.\n",
    "\n",
    "- **Normalisation** (also known as Min-Max scaling) adjusts the data to fit within a specific range, typically between 0 and 1. This technique rescales the data based on the minimum and maximum values of each feature. Normalisation is useful when you need to ensure that all features contribute equally to the analysis, especially when the data has widely varying ranges or units. It is particularly helpful when features need to be bounded within a specific range for practical reasons, such as visualisation or integration with other systems.\n",
    "\n",
    "#### When to Use Which Scaling Method:\n",
    "\n",
    "- **Standardisation**:\n",
    "  - Use when the features have different units or scales and you want to bring them to a common scale while maintaining their distribution properties.\n",
    "  - Appropriate for data with outliers or varying distributions, as it is less sensitive to extreme values compared to normalisation.\n",
    "  - Use when the data follows a Gaussian or Normal distribution.\n",
    "\n",
    "\n",
    "- **Normalisation**:\n",
    "  - Use when you need to scale features to a fixed range, such as [0, 1], to ensure that all features contribute equally to the analysis.\n",
    "  - Ideal when features have different units or ranges, and you want to bound the data within a specific range for consistency.\n",
    "\n",
    "In summary, **standardisation** adjusts data to have a mean of 0 and a standard deviation of 1, making it suitable for data with different scales and distributions. **Normalisation** scales data to a fixed range, typically [0, 1], ensuring that features are on a common scale without altering their distribution shape. For a deeper understanding of when to normalise or standardise data, you can refer to this **[article](https://www.secoda.co/learn/when-to-normalize-or-standardize-data)**.\n",
    "\n",
    "---"
   ]
  },
  {
   "cell_type": "markdown",
   "metadata": {
    "id": "DYvc-vLM0RqL"
   },
   "source": [
    "#### Standarisation example"
   ]
  },
  {
   "cell_type": "markdown",
   "metadata": {},
   "source": [
    "The code example below starts by generating 1000 random data points from a **[normal distribution](https://en.wikipedia.org/wiki/Normal_distribution)** with a mean of 10 and a standard deviation of 5, reshaping this data into a **[column vector](https://www.statlect.com/matrix-algebra/vectors-and-matrices)**. It then creates a `StandardScaler` object for standardisation. The scaler is applied to the data, transforming it so that the values have a mean of 0 and a standard deviation of 1. The code then plots two histograms side by side: the first shows the distribution of the original data, while the second displays the distribution after standardisation."
   ]
  },
  {
   "cell_type": "code",
   "execution_count": 49,
   "metadata": {
    "id": "mdwz053K0RqN",
    "outputId": "053b9bfd-7069-437f-ef7f-6554757d2c43"
   },
   "outputs": [
    {
     "data": {
      "image/png": "[encoded data removed]",
      "text/plain": [
       "<Figure size 1200x600 with 2 Axes>"
      ]
     },
     "metadata": {},
     "output_type": "display_data"
    }
   ],
   "source": [
    "# Generate 1000 data points randomly drawn from a normal distribution\n",
    "original_data = np.random.normal(loc=10, scale=5, size=1000).reshape(-1, 1)\n",
    "\n",
    "# Create the StandardScaler object\n",
    "scaler = StandardScaler()\n",
    "\n",
    "# Fit the scaler to the data and transform it\n",
    "scaled_data = scaler.fit_transform(original_data)\n",
    "\n",
    "# Plot the original and scaled data to compare\n",
    "fig, ax = plt.subplots(1, 2, figsize=(12, 6))\n",
    "\n",
    "sns.histplot(original_data, ax=ax[0], kde=True)\n",
    "ax[0].set_title(\"Original Data\")\n",
    "\n",
    "sns.histplot(scaled_data, ax=ax[1], kde=True)\n",
    "ax[1].set_title(\"Scaled Data\")\n",
    "\n",
    "plt.show()"
   ]
  },
  {
   "cell_type": "markdown",
   "metadata": {
    "id": "UN3tFUD80RqO"
   },
   "source": [
    "Notice that the standardised data has a mean of 0."
   ]
  },
  {
   "cell_type": "markdown",
   "metadata": {
    "id": "iylvbYk70RqO"
   },
   "source": [
    "#### Normalisation example"
   ]
  },
  {
   "cell_type": "markdown",
   "metadata": {},
   "source": [
    "The code example below first generates 1000 random data points from an **[exponential distribution](https://en.wikipedia.org/wiki/Exponential_distribution)** and reshapes it into a **[column vector](https://www.statlect.com/matrix-algebra/vectors-and-matrices)**. It then creates an instance of `MinMaxScaler`, which is used to normalise the data. The scaler is fitted to the original data and subsequently transforms it, scaling the values to a range between 0 and 1. Finally, the code plots two histograms side by side: the first histogram shows the distribution of the original exponential data, while the second histogram displays the distribution of the data after normalisation."
   ]
  },
  {
   "cell_type": "code",
   "execution_count": 50,
   "metadata": {
    "id": "qySQ1op2S5ig",
    "outputId": "68907147-de88-4fe6-9f88-3c2647945326"
   },
   "outputs": [
    {
     "data": {
      "image/png": "[encoded data removed]",
      "text/plain": [
       "<Figure size 1200x600 with 2 Axes>"
      ]
     },
     "metadata": {},
     "output_type": "display_data"
    }
   ],
   "source": [
    "# Generate 1000 data points randomly drawn from an exponential distribution\n",
    "original_data = np.random.exponential(size=1000).reshape(-1, 1)\n",
    "\n",
    "# Create the MinMaxScaler object\n",
    "scaler = MinMaxScaler()\n",
    "\n",
    "# Fit the scaler to the data and transform it\n",
    "scaled_data = scaler.fit_transform(original_data)\n",
    "\n",
    "# Plot the original and scaled data to compare\n",
    "fig, ax = plt.subplots(1, 2, figsize=(12, 6))\n",
    "\n",
    "sns.histplot(original_data, ax=ax[0], kde=True)\n",
    "ax[0].set_title(\"Original Data\")\n",
    "\n",
    "sns.histplot(scaled_data, ax=ax[1], kde=True)\n",
    "ax[1].set_title(\"Scaled Data\")\n",
    "\n",
    "plt.show()"
   ]
  },
  {
   "cell_type": "markdown",
   "metadata": {
    "id": "oaYCOXdsS5ih"
   },
   "source": [
    "Notice that, instead of ranging from 0 to 7, it now ranges from 0 to 1."
   ]
  },
  {
   "cell_type": "markdown",
   "metadata": {
    "id": "dYmhDLat0RqP"
   },
   "source": [
    "## Practice  \n",
    "\n",
    "Practice handing missing data with the \"countries.csv\" dataset which is derived from some World Bank data. Each column is a type of indicator for example EN.ATM.CO2E.PC is carbon dioxide emissions in metric tons per capita. These indicators are recorded for participating countries."
   ]
  },
  {
   "cell_type": "code",
   "execution_count": 51,
   "metadata": {
    "id": "qqrd_beqS5ii",
    "outputId": "19be0b4f-9976-4ef6-a5f8-9f2620dfc489"
   },
   "outputs": [
    {
     "data": {
      "text/html": [
       "<div>\n",
       "<style scoped>\n",
       "    .dataframe tbody tr th:only-of-type {\n",
       "        vertical-align: middle;\n",
       "    }\n",
       "\n",
       "    .dataframe tbody tr th {\n",
       "        vertical-align: top;\n",
       "    }\n",
       "\n",
       "    .dataframe thead th {\n",
       "        text-align: right;\n",
       "    }\n",
       "</style>\n",
       "<table border=\"1\" class=\"dataframe\">\n",
       "  <thead>\n",
       "    <tr style=\"text-align: right;\">\n",
       "      <th></th>\n",
       "      <th>Country</th>\n",
       "      <th>Country Groups</th>\n",
       "      <th>BX.KLT.DINV.WD.GD.ZS</th>\n",
       "      <th>EG.ELC.ACCS.ZS</th>\n",
       "      <th>EG.FEC.RNEW.ZS</th>\n",
       "      <th>EN.ATM.CO2E.PC</th>\n",
       "      <th>FP.CPI.TOTL.ZG</th>\n",
       "      <th>IT.CEL.SETS.P2</th>\n",
       "      <th>IT.NET.USER.ZS</th>\n",
       "      <th>NE.EXP.GNFS.ZS</th>\n",
       "      <th>...</th>\n",
       "      <th>NY.GDP.PCAP.CD</th>\n",
       "      <th>SP.DYN.AMRT.FE</th>\n",
       "      <th>SP.DYN.AMRT.MA</th>\n",
       "      <th>SP.DYN.CBRT.IN</th>\n",
       "      <th>SP.DYN.CDRT.IN</th>\n",
       "      <th>SP.DYN.IMRT.IN</th>\n",
       "      <th>SP.DYN.LE00.IN</th>\n",
       "      <th>SP.DYN.TFRT.IN</th>\n",
       "      <th>SP.POP.GROW</th>\n",
       "      <th>SP.URB.TOTL.IN.ZS</th>\n",
       "    </tr>\n",
       "  </thead>\n",
       "  <tbody>\n",
       "    <tr>\n",
       "      <th>0</th>\n",
       "      <td>CEB</td>\n",
       "      <td>Central Europe and the Baltics</td>\n",
       "      <td>1.555790</td>\n",
       "      <td>100.000000</td>\n",
       "      <td>14.538355</td>\n",
       "      <td>6.820042</td>\n",
       "      <td>1.840965</td>\n",
       "      <td>122.192106</td>\n",
       "      <td>58.599297</td>\n",
       "      <td>52.333390</td>\n",
       "      <td>...</td>\n",
       "      <td>12567.128310</td>\n",
       "      <td>77.039930</td>\n",
       "      <td>189.578062</td>\n",
       "      <td>10.543330</td>\n",
       "      <td>11.429917</td>\n",
       "      <td>6.019183</td>\n",
       "      <td>75.295349</td>\n",
       "      <td>1.465325</td>\n",
       "      <td>-0.362710</td>\n",
       "      <td>62.059417</td>\n",
       "    </tr>\n",
       "    <tr>\n",
       "      <th>1</th>\n",
       "      <td>CSS</td>\n",
       "      <td>Caribbean small states</td>\n",
       "      <td>4.658176</td>\n",
       "      <td>93.114511</td>\n",
       "      <td>9.096342</td>\n",
       "      <td>9.277109</td>\n",
       "      <td>3.250344</td>\n",
       "      <td>113.628492</td>\n",
       "      <td>35.407690</td>\n",
       "      <td>44.935642</td>\n",
       "      <td>...</td>\n",
       "      <td>8726.326154</td>\n",
       "      <td>121.928584</td>\n",
       "      <td>200.568068</td>\n",
       "      <td>17.555646</td>\n",
       "      <td>7.436407</td>\n",
       "      <td>18.406085</td>\n",
       "      <td>72.252392</td>\n",
       "      <td>2.151960</td>\n",
       "      <td>0.642147</td>\n",
       "      <td>42.083135</td>\n",
       "    </tr>\n",
       "    <tr>\n",
       "      <th>2</th>\n",
       "      <td>EAP</td>\n",
       "      <td>East Asia &amp; Pacific (excluding high income)</td>\n",
       "      <td>3.796483</td>\n",
       "      <td>94.997330</td>\n",
       "      <td>16.471817</td>\n",
       "      <td>5.106045</td>\n",
       "      <td>3.789836</td>\n",
       "      <td>69.905604</td>\n",
       "      <td>28.957482</td>\n",
       "      <td>30.572597</td>\n",
       "      <td>...</td>\n",
       "      <td>4007.323783</td>\n",
       "      <td>91.717833</td>\n",
       "      <td>134.835195</td>\n",
       "      <td>14.439063</td>\n",
       "      <td>7.019396</td>\n",
       "      <td>19.100000</td>\n",
       "      <td>73.482345</td>\n",
       "      <td>1.843869</td>\n",
       "      <td>0.713160</td>\n",
       "      <td>47.696831</td>\n",
       "    </tr>\n",
       "    <tr>\n",
       "      <th>3</th>\n",
       "      <td>EAR</td>\n",
       "      <td>Early-demographic dividend</td>\n",
       "      <td>2.073571</td>\n",
       "      <td>79.455104</td>\n",
       "      <td>26.481427</td>\n",
       "      <td>2.119827</td>\n",
       "      <td>4.580200</td>\n",
       "      <td>68.069446</td>\n",
       "      <td>12.835425</td>\n",
       "      <td>27.711023</td>\n",
       "      <td>...</td>\n",
       "      <td>2926.483907</td>\n",
       "      <td>150.595639</td>\n",
       "      <td>214.978616</td>\n",
       "      <td>22.914627</td>\n",
       "      <td>7.028941</td>\n",
       "      <td>40.042149</td>\n",
       "      <td>67.955732</td>\n",
       "      <td>2.763140</td>\n",
       "      <td>1.534541</td>\n",
       "      <td>42.113134</td>\n",
       "    </tr>\n",
       "    <tr>\n",
       "      <th>4</th>\n",
       "      <td>EAS</td>\n",
       "      <td>East Asia &amp; Pacific</td>\n",
       "      <td>2.930966</td>\n",
       "      <td>95.496185</td>\n",
       "      <td>13.729447</td>\n",
       "      <td>5.701783</td>\n",
       "      <td>3.247588</td>\n",
       "      <td>73.657018</td>\n",
       "      <td>34.269800</td>\n",
       "      <td>32.153225</td>\n",
       "      <td>...</td>\n",
       "      <td>7674.475705</td>\n",
       "      <td>86.702958</td>\n",
       "      <td>130.465277</td>\n",
       "      <td>13.880915</td>\n",
       "      <td>7.095146</td>\n",
       "      <td>18.136433</td>\n",
       "      <td>74.383915</td>\n",
       "      <td>1.797065</td>\n",
       "      <td>0.675231</td>\n",
       "      <td>51.791229</td>\n",
       "    </tr>\n",
       "  </tbody>\n",
       "</table>\n",
       "<p>5 rows × 21 columns</p>\n",
       "</div>"
      ],
      "text/plain": [
       "  Country                               Country Groups  BX.KLT.DINV.WD.GD.ZS  \\\n",
       "0     CEB               Central Europe and the Baltics              1.555790   \n",
       "1     CSS                       Caribbean small states              4.658176   \n",
       "2     EAP  East Asia & Pacific (excluding high income)              3.796483   \n",
       "3     EAR                   Early-demographic dividend              2.073571   \n",
       "4     EAS                          East Asia & Pacific              2.930966   \n",
       "\n",
       "   EG.ELC.ACCS.ZS  EG.FEC.RNEW.ZS  EN.ATM.CO2E.PC  FP.CPI.TOTL.ZG  \\\n",
       "0      100.000000       14.538355        6.820042        1.840965   \n",
       "1       93.114511        9.096342        9.277109        3.250344   \n",
       "2       94.997330       16.471817        5.106045        3.789836   \n",
       "3       79.455104       26.481427        2.119827        4.580200   \n",
       "4       95.496185       13.729447        5.701783        3.247588   \n",
       "\n",
       "   IT.CEL.SETS.P2  IT.NET.USER.ZS  NE.EXP.GNFS.ZS  ...  NY.GDP.PCAP.CD  \\\n",
       "0      122.192106       58.599297       52.333390  ...    12567.128310   \n",
       "1      113.628492       35.407690       44.935642  ...     8726.326154   \n",
       "2       69.905604       28.957482       30.572597  ...     4007.323783   \n",
       "3       68.069446       12.835425       27.711023  ...     2926.483907   \n",
       "4       73.657018       34.269800       32.153225  ...     7674.475705   \n",
       "\n",
       "   SP.DYN.AMRT.FE  SP.DYN.AMRT.MA  SP.DYN.CBRT.IN  SP.DYN.CDRT.IN  \\\n",
       "0       77.039930      189.578062       10.543330       11.429917   \n",
       "1      121.928584      200.568068       17.555646        7.436407   \n",
       "2       91.717833      134.835195       14.439063        7.019396   \n",
       "3      150.595639      214.978616       22.914627        7.028941   \n",
       "4       86.702958      130.465277       13.880915        7.095146   \n",
       "\n",
       "   SP.DYN.IMRT.IN  SP.DYN.LE00.IN  SP.DYN.TFRT.IN  SP.POP.GROW  \\\n",
       "0        6.019183       75.295349        1.465325    -0.362710   \n",
       "1       18.406085       72.252392        2.151960     0.642147   \n",
       "2       19.100000       73.482345        1.843869     0.713160   \n",
       "3       40.042149       67.955732        2.763140     1.534541   \n",
       "4       18.136433       74.383915        1.797065     0.675231   \n",
       "\n",
       "   SP.URB.TOTL.IN.ZS  \n",
       "0          62.059417  \n",
       "1          42.083135  \n",
       "2          47.696831  \n",
       "3          42.113134  \n",
       "4          51.791229  \n",
       "\n",
       "[5 rows x 21 columns]"
      ]
     },
     "execution_count": 51,
     "metadata": {},
     "output_type": "execute_result"
    }
   ],
   "source": [
    "# Load the countries data\n",
    "countries = pd.read_csv(\"countries.csv\")\n",
    "\n",
    "countries.head()\n"
   ]
  },
  {
   "cell_type": "markdown",
   "metadata": {},
   "source": [
    "#### Visualise the IT.CEL.SETS.P2 feature"
   ]
  },
  {
   "cell_type": "code",
   "execution_count": 52,
   "metadata": {
    "id": "e11a2tABS5ik",
    "outputId": "a82f1629-ce18-421c-ee95-0de50969bc16"
   },
   "outputs": [
    {
     "data": {
      "text/plain": [
       "<Axes: xlabel='IT.CEL.SETS.P2', ylabel='Count'>"
      ]
     },
     "execution_count": 52,
     "metadata": {},
     "output_type": "execute_result"
    },
    {
     "data": {
      "image/png": "[encoded data removed]",
      "text/plain": [
       "<Figure size 640x480 with 1 Axes>"
      ]
     },
     "metadata": {},
     "output_type": "display_data"
    }
   ],
   "source": [
    "# IT.CEL.SETS.P2 is the mobile cellular subscriptions per 100 people.\n",
    "sns.histplot(countries['IT.CEL.SETS.P2'])"
   ]
  },
  {
   "cell_type": "markdown",
   "metadata": {
    "id": "4a9Aua_cS5im"
   },
   "source": [
    "#### Normalise the IT.CEL.SETS.P2 feature"
   ]
  },
  {
   "cell_type": "code",
   "execution_count": 53,
   "metadata": {},
   "outputs": [
    {
     "data": {
      "image/png": "[encoded data removed]",
      "text/plain": [
       "<Figure size 1400x600 with 2 Axes>"
      ]
     },
     "metadata": {},
     "output_type": "display_data"
    }
   ],
   "source": [
    "# Create the MinMaxScaler object\n",
    "scaler = MinMaxScaler()\n",
    "\n",
    "# Extract and reshape the data to be 2D\n",
    "data_to_normalize = countries[['IT.CEL.SETS.P2']].values\n",
    "\n",
    "# Fit the scaler to the data and transform it\n",
    "normalized_data = scaler.fit_transform(data_to_normalize)\n",
    "\n",
    "# Assign the normalized data back to the DataFrame\n",
    "countries['IT.CEL.SETS.P2_normalized'] = normalized_data\n",
    "\n",
    "# Plot the original and normalized data to compare\n",
    "fig, ax = plt.subplots(1, 2, figsize=(14, 6))\n",
    "\n",
    "# Original Data\n",
    "sns.histplot(countries['IT.CEL.SETS.P2'], ax=ax[0], kde=True)\n",
    "ax[0].set_title(\"Original Data\")\n",
    "\n",
    "# Normalized Data\n",
    "sns.histplot(countries['IT.CEL.SETS.P2_normalized'], ax=ax[1], kde=True)\n",
    "ax[1].set_title(\"Normalized Data\")\n",
    "\n",
    "plt.show()\n"
   ]
  },
  {
   "cell_type": "markdown",
   "metadata": {
    "id": "7qyrngFhS5ip"
   },
   "source": [
    "## Tasks\n"
   ]
  },
  {
   "cell_type": "markdown",
   "metadata": {
    "id": "kclmdBZJ0RqR"
   },
   "source": [
    "### Task 1"
   ]
  },
  {
   "cell_type": "code",
   "execution_count": 69,
   "metadata": {
    "id": "7V2ek_duS5is"
   },
   "outputs": [
    {
     "data": {
      "text/html": [
       "<div>\n",
       "<style scoped>\n",
       "    .dataframe tbody tr th:only-of-type {\n",
       "        vertical-align: middle;\n",
       "    }\n",
       "\n",
       "    .dataframe tbody tr th {\n",
       "        vertical-align: top;\n",
       "    }\n",
       "\n",
       "    .dataframe thead th {\n",
       "        text-align: right;\n",
       "    }\n",
       "</style>\n",
       "<table border=\"1\" class=\"dataframe\">\n",
       "  <thead>\n",
       "    <tr style=\"text-align: right;\">\n",
       "      <th></th>\n",
       "      <th>id</th>\n",
       "      <th>store_name</th>\n",
       "      <th>store_email</th>\n",
       "      <th>department</th>\n",
       "      <th>income</th>\n",
       "      <th>date_measured</th>\n",
       "      <th>country</th>\n",
       "    </tr>\n",
       "  </thead>\n",
       "  <tbody>\n",
       "    <tr>\n",
       "      <th>0</th>\n",
       "      <td>1</td>\n",
       "      <td>Cullen/Frost Bankers, Inc.</td>\n",
       "      <td>NaN</td>\n",
       "      <td>Clothing</td>\n",
       "      <td>$54438554.24</td>\n",
       "      <td>4-2-2006</td>\n",
       "      <td>United States/</td>\n",
       "    </tr>\n",
       "    <tr>\n",
       "      <th>1</th>\n",
       "      <td>2</td>\n",
       "      <td>Nordson Corporation</td>\n",
       "      <td>NaN</td>\n",
       "      <td>Tools</td>\n",
       "      <td>$41744177.01</td>\n",
       "      <td>4-1-2006</td>\n",
       "      <td>Britain</td>\n",
       "    </tr>\n",
       "    <tr>\n",
       "      <th>2</th>\n",
       "      <td>3</td>\n",
       "      <td>Stag Industrial, Inc.</td>\n",
       "      <td>NaN</td>\n",
       "      <td>Beauty</td>\n",
       "      <td>$36152340.34</td>\n",
       "      <td>12-9-2003</td>\n",
       "      <td>United States</td>\n",
       "    </tr>\n",
       "    <tr>\n",
       "      <th>3</th>\n",
       "      <td>4</td>\n",
       "      <td>FIRST REPUBLIC BANK</td>\n",
       "      <td>ecanadine3@fc2.com</td>\n",
       "      <td>Automotive</td>\n",
       "      <td>$8928350.04</td>\n",
       "      <td>8-5-2006</td>\n",
       "      <td>Britain/</td>\n",
       "    </tr>\n",
       "    <tr>\n",
       "      <th>4</th>\n",
       "      <td>5</td>\n",
       "      <td>Mercantile Bank Corporation</td>\n",
       "      <td>NaN</td>\n",
       "      <td>Baby</td>\n",
       "      <td>$33552742.32</td>\n",
       "      <td>21-1-1973</td>\n",
       "      <td>United Kingdom</td>\n",
       "    </tr>\n",
       "  </tbody>\n",
       "</table>\n",
       "</div>"
      ],
      "text/plain": [
       "   id                   store_name         store_email  department  \\\n",
       "0   1   Cullen/Frost Bankers, Inc.                 NaN    Clothing   \n",
       "1   2          Nordson Corporation                 NaN       Tools   \n",
       "2   3        Stag Industrial, Inc.                 NaN      Beauty   \n",
       "3   4          FIRST REPUBLIC BANK  ecanadine3@fc2.com  Automotive   \n",
       "4   5  Mercantile Bank Corporation                 NaN        Baby   \n",
       "\n",
       "         income date_measured          country  \n",
       "0  $54438554.24      4-2-2006   United States/  \n",
       "1  $41744177.01      4-1-2006          Britain  \n",
       "2  $36152340.34     12-9-2003    United States  \n",
       "3   $8928350.04      8-5-2006         Britain/  \n",
       "4  $33552742.32     21-1-1973   United Kingdom  "
      ]
     },
     "execution_count": 69,
     "metadata": {},
     "output_type": "execute_result"
    }
   ],
   "source": [
    "# 1. Read in store_income_data_task.csv\n",
    "store_df = pd.read_csv('store_income_data_task.csv')\n",
    "\n",
    "# 2. Display the first 5 observations\n",
    "store_df.head()"
   ]
  },
  {
   "cell_type": "code",
   "execution_count": 55,
   "metadata": {
    "id": "J7J-wgYWS5iu"
   },
   "outputs": [
    {
     "data": {
      "text/plain": [
       "id                 0\n",
       "store_name         0\n",
       "store_email      587\n",
       "department        27\n",
       "income             0\n",
       "date_measured      0\n",
       "country           35\n",
       "dtype: int64"
      ]
     },
     "execution_count": 55,
     "metadata": {},
     "output_type": "execute_result"
    }
   ],
   "source": [
    "# 3. Get the number of missing data values per column and print the results\n",
    "store_missing_values = store_df.isnull().sum()\n",
    "store_missing_values"
   ]
  },
  {
   "cell_type": "markdown",
   "metadata": {
    "id": "wIPXtprGS5iu"
   },
   "source": [
    "4. Write a note on why you think we have missing data for the following three columns: store_email,  department, and country. Remember to classify them according to the three categories(types of missingness) we analysed in the task."
   ]
  },
  {
   "cell_type": "markdown",
   "metadata": {
    "id": "InSxfUf40RqS"
   },
   "source": [
    "**Answer here:**  \n",
    "store_email: It is possible that the missing values could be due to an aversion of sharing contact details. The potential of phishing scams may contribute to that aversion. That would be a common factor that has not been measured in the dataset. That would be Missing Not at Random.  \n",
    "\n",
    "department: The missing values could have been a random oversight. It is possible that the people filling in the information have just skipped the department section randomly and on accident. That would make it Missing completely at Random.  \n",
    "\n",
    "country: It is possible that the values are missing because stores did not want to disclose their location based on income. For example: high income stores may want to hide that they are based in a country that has higher taxes than others. That would make it Missing at Random."
   ]
  },
  {
   "cell_type": "markdown",
   "metadata": {
    "id": "g_kt5gDg0RqS"
   },
   "source": [
    "### Task 2"
   ]
  },
  {
   "cell_type": "markdown",
   "metadata": {
    "id": "MiEvBzB8S5iv"
   },
   "source": [
    "1. For the following example, decide whether standardisation or normalisation makes more sense.\n",
    "\n",
    "  a. You want to build a **[linear regression model](http://www.stat.yale.edu/Courses/1997-98/101/linreg.htm)** to predict someone's grades, given how much time they spend on various activities during a typical school week.  You notice that your measurements for how much time students spend studying aren't normally distributed: some students spend almost no time studying, while others study for four or more hours daily. Should you standardise or normalise this variable?  \n",
    "\n",
    "  b. You're still working with your student's grades, but you want to include information on how students perform on several fitness tests as well. You have information on how many jumping jacks and push-ups each student can complete in a minute. However, you notice that students perform far more jumping jacks than push-ups: the average for the former is 40, and for the latter only 10. Should you standardise or normalise these variables?"
   ]
  },
  {
   "cell_type": "markdown",
   "metadata": {
    "id": "070Knn7V0Rqd"
   },
   "source": [
    "**Answer here:**  \n",
    "\n",
    "a. Normalisation makes more sense. - Reason: Data is not normally (non-Gaussian) distributed.\n",
    "\n",
    "b. Normalisation makes more sense. - Reason: Data distribution has not been mentioned here, so is unknown to me.\n",
    "Standardisation is only recommended if there is a known Gaussian distribution."
   ]
  },
  {
   "cell_type": "code",
   "execution_count": 56,
   "metadata": {
    "id": "OhY3QV5rS5iw"
   },
   "outputs": [
    {
     "data": {
      "text/plain": [
       "<Axes: xlabel='EG.ELC.ACCS.ZS', ylabel='Count'>"
      ]
     },
     "execution_count": 56,
     "metadata": {},
     "output_type": "execute_result"
    },
    {
     "data": {
      "image/png": "[encoded data removed]",
      "text/plain": [
       "<Figure size 640x480 with 1 Axes>"
      ]
     },
     "metadata": {},
     "output_type": "display_data"
    }
   ],
   "source": [
    "# 2. From the countries dataset, visualise the \"EG.ELC.ACCS.ZS\" column using a histogram.\n",
    "#    Scale the column using the appropriate scaling method (normalisation or standardisation).\n",
    "#    Finally, visualise the original and scaled data alongside each other.\n",
    "#    Note EG.ELC.ACCS.ZS is the percentage of the population with access to electricity.\n",
    "\n",
    "# Visualise the \"EG.ELC.ACCS.ZS\" column using a histogram.\n",
    "sns.set_theme()\n",
    "sns.histplot(countries['EG.ELC.ACCS.ZS'])"
   ]
  },
  {
   "cell_type": "code",
   "execution_count": 57,
   "metadata": {},
   "outputs": [
    {
     "data": {
      "image/png": "[encoded data removed]",
      "text/plain": [
       "<Figure size 1200x600 with 2 Axes>"
      ]
     },
     "metadata": {},
     "output_type": "display_data"
    }
   ],
   "source": [
    "# Scale the column using the appropriate scaling method (normalisation or standardisation).\n",
    "\n",
    "# Create the MinMaxScaler object\n",
    "scaler = MinMaxScaler()\n",
    "\n",
    "# Extract and reshape the data to be 2D\n",
    "data_to_normalize = countries[['EG.ELC.ACCS.ZS']].values\n",
    "\n",
    "# Fit the scaler to the data and transform it\n",
    "scaled_data = scaler.fit_transform(data_to_normalize)\n",
    "\n",
    "# Visualise the original and scaled data alongside each other.\n",
    "fig, ax = plt.subplots(1, 2, figsize=(12, 6))\n",
    "\n",
    "sns.histplot(data_to_normalize, ax=ax[0], kde=True)\n",
    "ax[0].set_title(\"Original Data\")\n",
    "\n",
    "sns.histplot(scaled_data, ax=ax[1], kde=True)\n",
    "ax[1].set_title(\"Scaled Data\")\n",
    "\n",
    "plt.show()"
   ]
  }
 ],
 "metadata": {
  "colab": {
   "provenance": []
  },
  "kernelspec": {
   "display_name": "Python 3",
   "language": "python",
   "name": "python3"
  },
  "language_info": {
   "codemirror_mode": {
    "name": "ipython",
    "version": 3
   },
   "file_extension": ".py",
   "mimetype": "text/x-python",
   "name": "python",
   "nbconvert_exporter": "python",
   "pygments_lexer": "ipython3",
   "version": "3.13.2"
  }
 },
 "nbformat": 4,
 "nbformat_minor": 4
}
