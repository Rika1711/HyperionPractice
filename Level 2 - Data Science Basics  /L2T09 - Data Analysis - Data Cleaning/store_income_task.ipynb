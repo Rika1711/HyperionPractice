{
 "cells": [
  {
   "cell_type": "markdown",
   "metadata": {
    "id": "lqt_yzRy16Wj"
   },
   "source": [
    "## Compulsory Task \n",
    "\n",
    "In this compulsory task you will clean the country column and parse the date column in the **store_income_data_task.csv** file."
   ]
  },
  {
   "cell_type": "code",
   "execution_count": 309,
   "metadata": {},
   "outputs": [],
   "source": [
    "# Import libraries.\n",
    "import pandas as pd\n",
    "import numpy as np\n",
    "from fuzzywuzzy import fuzz\n",
    "from fuzzywuzzy import process\n",
    "from datetime import datetime\n"
   ]
  },
  {
   "cell_type": "code",
   "execution_count": 310,
   "metadata": {
    "id": "vBP3WN2O16Wp"
   },
   "outputs": [],
   "source": [
    "# Load up store_income_data.csv\n",
    "store_df = pd.read_csv('store_income_data_task.csv')"
   ]
  },
  {
   "cell_type": "markdown",
   "metadata": {
    "id": "ItqLwumA16Wr"
   },
   "source": [
    "1. Take a look at all the unique values in the \"country\" column. Then, convert the column to lowercase and remove any trailing white spaces."
   ]
  },
  {
   "cell_type": "code",
   "execution_count": 311,
   "metadata": {
    "id": "sLkzt4Hr16Wr"
   },
   "outputs": [
    {
     "name": "stdout",
     "output_type": "stream",
     "text": [
      "Number of unique countries:  76\n"
     ]
    },
    {
     "data": {
      "text/plain": [
       "array(['United States/', 'Britain', ' United States', 'Britain/',\n",
       "       ' United Kingdom', 'U.K.', 'SA ', 'U.K/', 'America',\n",
       "       'United Kingdom', nan, 'united states', ' S.A.', 'England ', 'UK',\n",
       "       'S.A./', 'ENGLAND', 'BRITAIN', 'U.K', 'U.K ', 'America/', 'SA.',\n",
       "       'S.A. ', 'u.k', 'uk', ' ', 'UK.', 'England/', 'england',\n",
       "       ' Britain', 'united states of america', 'UK/', 'SA/', 'SA',\n",
       "       'England.', 'UNITED KINGDOM', 'America.', 'S.A..', 's.a.', ' U.K',\n",
       "       ' United States of America', 'Britain ', 'England', ' SA',\n",
       "       'United States of America.', 'United States of America/',\n",
       "       'United States.', 's. africasouth africa', ' England',\n",
       "       'United Kingdom ', 'United States of America ', ' UK',\n",
       "       'united kingdom', 'AMERICA', 'America ',\n",
       "       'UNITED STATES OF AMERICA', ' S. AfricaSouth Africa', 'america',\n",
       "       'S. AFRICASOUTH AFRICA', 'Britain.', '/', 'United Kingdom.',\n",
       "       'United States', ' America', 'UNITED STATES', 'sa',\n",
       "       'United States of America', 'UK ', 'United States ',\n",
       "       'S. AfricaSouth Africa/', 'S.A.', 'United Kingdom/',\n",
       "       'S. AfricaSouth Africa ', 'S. AfricaSouth Africa.',\n",
       "       'S. AfricaSouth Africa', '.', 'britain'], dtype=object)"
      ]
     },
     "execution_count": 311,
     "metadata": {},
     "output_type": "execute_result"
    }
   ],
   "source": [
    "# Check for all unique countries. Bonus: Check amount of unique countries.\n",
    "print(\"Number of unique countries: \", store_df['country'].nunique())\n",
    "store_df['country'].unique()"
   ]
  },
  {
   "cell_type": "code",
   "execution_count": 312,
   "metadata": {},
   "outputs": [
    {
     "name": "stdout",
     "output_type": "stream",
     "text": [
      "Number of unique countries:  36\n"
     ]
    },
    {
     "data": {
      "text/plain": [
       "array(['united states/', 'britain', 'united states', 'britain/',\n",
       "       'united kingdom', 'u.k.', 'sa', 'u.k/', 'america', nan, 's.a.',\n",
       "       'england', 'uk', 's.a./', 'u.k', 'america/', 'sa.', '', 'uk.',\n",
       "       'england/', 'united states of america', 'uk/', 'sa/', 'england.',\n",
       "       'america.', 's.a..', 'united states of america.',\n",
       "       'united states of america/', 'united states.',\n",
       "       's. africasouth africa', 'britain.', '/', 'united kingdom.',\n",
       "       's. africasouth africa/', 'united kingdom/',\n",
       "       's. africasouth africa.', '.'], dtype=object)"
      ]
     },
     "execution_count": 312,
     "metadata": {},
     "output_type": "execute_result"
    }
   ],
   "source": [
    "# Convert the country column to lowercase. \n",
    "store_df['country'] = store_df['country'].str.lower()\n",
    "\n",
    "# Delete white spaces.\n",
    "store_df['country'] = store_df['country'].str.strip()\n",
    "\n",
    "# Check for changes.\n",
    "print(\"Number of unique countries: \", store_df['country'].nunique())\n",
    "store_df['country'].unique()"
   ]
  },
  {
   "cell_type": "markdown",
   "metadata": {
    "id": "P6dcDc4P16Ws"
   },
   "source": [
    "2. Note that there should only be three separate countries. Eliminate all variations, so that 'South Africa', 'United Kingdom' and 'United States' are the only three countries."
   ]
  },
  {
   "cell_type": "code",
   "execution_count": 313,
   "metadata": {
    "id": "qeV3CxMR16Ws"
   },
   "outputs": [],
   "source": [
    "def replace_matches_in_column(df, column, string_to_match, min_ratio=70):\n",
    "    # get a list of unique strings\n",
    "    strings = df[column].unique()\n",
    "    \n",
    "    # Get the top 10 closest matches to our input string\n",
    "    matches = process.extract(string_to_match, strings, limit=10, scorer=fuzz.token_sort_ratio)\n",
    "\n",
    "    # Only get matches with a ratio >= min_ratio\n",
    "    close_matches = [match[0] for match in matches if match[1] >= min_ratio]\n",
    "\n",
    "    # Get the rows of all the close matches in our dataframe\n",
    "    rows_with_matches = df[column].isin(close_matches)\n",
    "\n",
    "    # Replace all rows with close matches with the input string_to_match\n",
    "    df.loc[rows_with_matches, column] = string_to_match\n",
    "    \n",
    "    # Let us know when the function is done\n",
    "    print(\"All done!\")"
   ]
  },
  {
   "cell_type": "code",
   "execution_count": 314,
   "metadata": {},
   "outputs": [
    {
     "name": "stdout",
     "output_type": "stream",
     "text": [
      "All done!\n",
      "All done!\n",
      "All done!\n",
      "All done!\n",
      "All done!\n",
      "All done!\n",
      "All done!\n",
      "All done!\n",
      "All done!\n"
     ]
    }
   ],
   "source": [
    "# Choose the variations you want.\n",
    "\n",
    "replace_matches_in_column(df=store_df, column='country', string_to_match=\"united kingdom\")\n",
    "replace_matches_in_column(df=store_df, column='country', string_to_match=\"uk\")\n",
    "replace_matches_in_column(df=store_df, column='country', string_to_match=\"england\")\n",
    "replace_matches_in_column(df=store_df, column='country', string_to_match=\"britain\")\n",
    "replace_matches_in_column(df=store_df, column='country', string_to_match=\"united states\")\n",
    "replace_matches_in_column(df=store_df, column='country', string_to_match=\"united states of america\")\n",
    "replace_matches_in_column(df=store_df, column='country', string_to_match=\"america\")\n",
    "replace_matches_in_column(df=store_df, column='country', string_to_match=\"south africa\")\n",
    "replace_matches_in_column(df=store_df, column='country', string_to_match=\"sa\")\n"
   ]
  },
  {
   "cell_type": "code",
   "execution_count": 315,
   "metadata": {},
   "outputs": [
    {
     "name": "stdout",
     "output_type": "stream",
     "text": [
      "Number of unique countries:  17\n"
     ]
    },
    {
     "data": {
      "text/plain": [
       "array(['united states of america', 'britain', 'united kingdom', 'u.k.',\n",
       "       'sa', 'u.k/', 'america', nan, 's.a.', 'england', 'uk', 's.a./',\n",
       "       'u.k', '', 's.a..', 'south africa', '/', '.'], dtype=object)"
      ]
     },
     "execution_count": 315,
     "metadata": {},
     "output_type": "execute_result"
    }
   ],
   "source": [
    "# Check progress\n",
    "print(\"Number of unique countries: \", store_df['country'].nunique())\n",
    "store_df['country'].unique()"
   ]
  },
  {
   "cell_type": "code",
   "execution_count": 316,
   "metadata": {},
   "outputs": [
    {
     "name": "stdout",
     "output_type": "stream",
     "text": [
      "Number of unique countries:  3\n"
     ]
    },
    {
     "data": {
      "text/plain": [
       "array(['united states', 'united kingdom', 'south africa', nan],\n",
       "      dtype=object)"
      ]
     },
     "execution_count": 316,
     "metadata": {},
     "output_type": "execute_result"
    }
   ],
   "source": [
    "# Clean up the rest of the differences.\n",
    "# Note: Despite decreasing the min_ratio, the program would not find matches for 'uk' etc.\n",
    "\n",
    "store_df.replace('uk', 'united kingdom', inplace=True)\n",
    "store_df.replace('u.k.', 'united kingdom', inplace=True)\n",
    "store_df.replace('u.k/', 'united kingdom', inplace=True)\n",
    "store_df.replace('u.k', 'united kingdom', inplace=True)\n",
    "store_df.replace('britain', 'united kingdom', inplace=True)\n",
    "store_df.replace('england', 'united kingdom', inplace=True)\n",
    "\n",
    "store_df.replace('united states of america', 'united states', inplace=True)\n",
    "store_df.replace('america', 'united states', inplace=True)\n",
    "\n",
    "store_df.replace('s.a.', 'south africa', inplace=True)\n",
    "store_df.replace('s.a./', 'south africa', inplace=True)\n",
    "store_df.replace('s.a..', 'south africa', inplace=True)\n",
    "store_df.replace('sa', 'south africa', inplace=True)\n",
    "\n",
    "# Replace non-values with np.nan.\n",
    "store_df.replace('/', np.nan, inplace=True)\n",
    "store_df.replace('.', np.nan, inplace=True)\n",
    "store_df.replace('', np.nan, inplace=True)\n",
    "\n",
    "# Show progress.\n",
    "print(\"Number of unique countries: \", store_df['country'].nunique())\n",
    "store_df['country'].unique()"
   ]
  },
  {
   "cell_type": "markdown",
   "metadata": {
    "id": "UJZDMTwP16Ws"
   },
   "source": [
    "3. Create a new column called `days_ago` in the DataFrame that is a copy of the 'date_measured' column but instead it is a number that shows how many days ago it was measured from the current date. Note that the current date can be obtained using `datetime.date.today()`."
   ]
  },
  {
   "cell_type": "code",
   "execution_count": 317,
   "metadata": {
    "id": "gMJbN84P16Wt"
   },
   "outputs": [
    {
     "name": "stdout",
     "output_type": "stream",
     "text": [
      "object\n"
     ]
    },
    {
     "data": {
      "text/html": [
       "<div>\n",
       "<style scoped>\n",
       "    .dataframe tbody tr th:only-of-type {\n",
       "        vertical-align: middle;\n",
       "    }\n",
       "\n",
       "    .dataframe tbody tr th {\n",
       "        vertical-align: top;\n",
       "    }\n",
       "\n",
       "    .dataframe thead th {\n",
       "        text-align: right;\n",
       "    }\n",
       "</style>\n",
       "<table border=\"1\" class=\"dataframe\">\n",
       "  <thead>\n",
       "    <tr style=\"text-align: right;\">\n",
       "      <th></th>\n",
       "      <th>id</th>\n",
       "      <th>store_name</th>\n",
       "      <th>store_email</th>\n",
       "      <th>department</th>\n",
       "      <th>income</th>\n",
       "      <th>date_measured</th>\n",
       "      <th>country</th>\n",
       "    </tr>\n",
       "  </thead>\n",
       "  <tbody>\n",
       "    <tr>\n",
       "      <th>0</th>\n",
       "      <td>1</td>\n",
       "      <td>Cullen/Frost Bankers, Inc.</td>\n",
       "      <td>NaN</td>\n",
       "      <td>Clothing</td>\n",
       "      <td>$54438554.24</td>\n",
       "      <td>4-2-2006</td>\n",
       "      <td>united states</td>\n",
       "    </tr>\n",
       "    <tr>\n",
       "      <th>1</th>\n",
       "      <td>2</td>\n",
       "      <td>Nordson Corporation</td>\n",
       "      <td>NaN</td>\n",
       "      <td>Tools</td>\n",
       "      <td>$41744177.01</td>\n",
       "      <td>4-1-2006</td>\n",
       "      <td>united kingdom</td>\n",
       "    </tr>\n",
       "    <tr>\n",
       "      <th>2</th>\n",
       "      <td>3</td>\n",
       "      <td>Stag Industrial, Inc.</td>\n",
       "      <td>NaN</td>\n",
       "      <td>Beauty</td>\n",
       "      <td>$36152340.34</td>\n",
       "      <td>12-9-2003</td>\n",
       "      <td>united states</td>\n",
       "    </tr>\n",
       "    <tr>\n",
       "      <th>3</th>\n",
       "      <td>4</td>\n",
       "      <td>FIRST REPUBLIC BANK</td>\n",
       "      <td>ecanadine3@fc2.com</td>\n",
       "      <td>Automotive</td>\n",
       "      <td>$8928350.04</td>\n",
       "      <td>8-5-2006</td>\n",
       "      <td>united kingdom</td>\n",
       "    </tr>\n",
       "    <tr>\n",
       "      <th>4</th>\n",
       "      <td>5</td>\n",
       "      <td>Mercantile Bank Corporation</td>\n",
       "      <td>NaN</td>\n",
       "      <td>Baby</td>\n",
       "      <td>$33552742.32</td>\n",
       "      <td>21-1-1973</td>\n",
       "      <td>united kingdom</td>\n",
       "    </tr>\n",
       "  </tbody>\n",
       "</table>\n",
       "</div>"
      ],
      "text/plain": [
       "   id                   store_name         store_email  department  \\\n",
       "0   1   Cullen/Frost Bankers, Inc.                 NaN    Clothing   \n",
       "1   2          Nordson Corporation                 NaN       Tools   \n",
       "2   3        Stag Industrial, Inc.                 NaN      Beauty   \n",
       "3   4          FIRST REPUBLIC BANK  ecanadine3@fc2.com  Automotive   \n",
       "4   5  Mercantile Bank Corporation                 NaN        Baby   \n",
       "\n",
       "         income date_measured         country  \n",
       "0  $54438554.24      4-2-2006   united states  \n",
       "1  $41744177.01      4-1-2006  united kingdom  \n",
       "2  $36152340.34     12-9-2003   united states  \n",
       "3   $8928350.04      8-5-2006  united kingdom  \n",
       "4  $33552742.32     21-1-1973  united kingdom  "
      ]
     },
     "execution_count": 317,
     "metadata": {},
     "output_type": "execute_result"
    }
   ],
   "source": [
    "# Determine datatype.\n",
    "print(store_df['date_measured'].dtype)\n",
    "\n",
    "# Check date first rows to understand date time format.\n",
    "store_df.head()"
   ]
  },
  {
   "cell_type": "code",
   "execution_count": 318,
   "metadata": {},
   "outputs": [
    {
     "data": {
      "text/html": [
       "<div>\n",
       "<style scoped>\n",
       "    .dataframe tbody tr th:only-of-type {\n",
       "        vertical-align: middle;\n",
       "    }\n",
       "\n",
       "    .dataframe tbody tr th {\n",
       "        vertical-align: top;\n",
       "    }\n",
       "\n",
       "    .dataframe thead th {\n",
       "        text-align: right;\n",
       "    }\n",
       "</style>\n",
       "<table border=\"1\" class=\"dataframe\">\n",
       "  <thead>\n",
       "    <tr style=\"text-align: right;\">\n",
       "      <th></th>\n",
       "      <th>id</th>\n",
       "      <th>store_name</th>\n",
       "      <th>store_email</th>\n",
       "      <th>department</th>\n",
       "      <th>income</th>\n",
       "      <th>date_measured</th>\n",
       "      <th>country</th>\n",
       "      <th>days_ago</th>\n",
       "    </tr>\n",
       "  </thead>\n",
       "  <tbody>\n",
       "    <tr>\n",
       "      <th>0</th>\n",
       "      <td>1</td>\n",
       "      <td>Cullen/Frost Bankers, Inc.</td>\n",
       "      <td>NaN</td>\n",
       "      <td>Clothing</td>\n",
       "      <td>$54438554.24</td>\n",
       "      <td>4-2-2006</td>\n",
       "      <td>united states</td>\n",
       "      <td>6964</td>\n",
       "    </tr>\n",
       "    <tr>\n",
       "      <th>1</th>\n",
       "      <td>2</td>\n",
       "      <td>Nordson Corporation</td>\n",
       "      <td>NaN</td>\n",
       "      <td>Tools</td>\n",
       "      <td>$41744177.01</td>\n",
       "      <td>4-1-2006</td>\n",
       "      <td>united kingdom</td>\n",
       "      <td>6995</td>\n",
       "    </tr>\n",
       "    <tr>\n",
       "      <th>2</th>\n",
       "      <td>3</td>\n",
       "      <td>Stag Industrial, Inc.</td>\n",
       "      <td>NaN</td>\n",
       "      <td>Beauty</td>\n",
       "      <td>$36152340.34</td>\n",
       "      <td>12-9-2003</td>\n",
       "      <td>united states</td>\n",
       "      <td>7840</td>\n",
       "    </tr>\n",
       "    <tr>\n",
       "      <th>3</th>\n",
       "      <td>4</td>\n",
       "      <td>FIRST REPUBLIC BANK</td>\n",
       "      <td>ecanadine3@fc2.com</td>\n",
       "      <td>Automotive</td>\n",
       "      <td>$8928350.04</td>\n",
       "      <td>8-5-2006</td>\n",
       "      <td>united kingdom</td>\n",
       "      <td>6871</td>\n",
       "    </tr>\n",
       "    <tr>\n",
       "      <th>4</th>\n",
       "      <td>5</td>\n",
       "      <td>Mercantile Bank Corporation</td>\n",
       "      <td>NaN</td>\n",
       "      <td>Baby</td>\n",
       "      <td>$33552742.32</td>\n",
       "      <td>21-1-1973</td>\n",
       "      <td>united kingdom</td>\n",
       "      <td>19031</td>\n",
       "    </tr>\n",
       "  </tbody>\n",
       "</table>\n",
       "</div>"
      ],
      "text/plain": [
       "   id                   store_name         store_email  department  \\\n",
       "0   1   Cullen/Frost Bankers, Inc.                 NaN    Clothing   \n",
       "1   2          Nordson Corporation                 NaN       Tools   \n",
       "2   3        Stag Industrial, Inc.                 NaN      Beauty   \n",
       "3   4          FIRST REPUBLIC BANK  ecanadine3@fc2.com  Automotive   \n",
       "4   5  Mercantile Bank Corporation                 NaN        Baby   \n",
       "\n",
       "         income date_measured         country  days_ago  \n",
       "0  $54438554.24      4-2-2006   united states      6964  \n",
       "1  $41744177.01      4-1-2006  united kingdom      6995  \n",
       "2  $36152340.34     12-9-2003   united states      7840  \n",
       "3   $8928350.04      8-5-2006  united kingdom      6871  \n",
       "4  $33552742.32     21-1-1973  united kingdom     19031  "
      ]
     },
     "execution_count": 318,
     "metadata": {},
     "output_type": "execute_result"
    }
   ],
   "source": [
    "# Create copy of days_ago column.\n",
    "# Turn that copy into the correct date_time format.\n",
    "# Subtract it from today's date.\n",
    "# Note: Using 'datetime.date.today()' did not work for me.\n",
    "store_df['days_ago'] = (datetime.now() - pd.to_datetime(store_df['date_measured'], format= '%d-%m-%Y')).dt.days\n",
    "# Check for new column.\n",
    "store_df.head()"
   ]
  }
 ],
 "metadata": {
  "colab": {
   "provenance": []
  },
  "kernelspec": {
   "display_name": "Python 3",
   "language": "python",
   "name": "python3"
  },
  "language_info": {
   "codemirror_mode": {
    "name": "ipython",
    "version": 3
   },
   "file_extension": ".py",
   "mimetype": "text/x-python",
   "name": "python",
   "nbconvert_exporter": "python",
   "pygments_lexer": "ipython3",
   "version": "3.13.2"
  }
 },
 "nbformat": 4,
 "nbformat_minor": 0
}
