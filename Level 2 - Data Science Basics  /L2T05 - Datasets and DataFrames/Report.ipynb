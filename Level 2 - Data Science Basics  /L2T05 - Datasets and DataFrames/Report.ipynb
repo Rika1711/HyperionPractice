{
 "cells": [
  {
   "cell_type": "code",
   "execution_count": 5,
   "metadata": {
    "id": "h0LVvvnfJsg5"
   },
   "outputs": [],
   "source": [
    "# Import pandas\n",
    "import pandas as pd"
   ]
  },
  {
   "cell_type": "code",
   "execution_count": 6,
   "metadata": {
    "id": "rv2oLRnPK36J"
   },
   "outputs": [
    {
     "name": "stderr",
     "output_type": "stream",
     "text": [
      "C:\\Users\\frede\\AppData\\Local\\Temp\\ipykernel_19628\\1558994609.py:2: FutureWarning: The 'delim_whitespace' keyword in pd.read_csv is deprecated and will be removed in a future version. Use ``sep='\\s+'`` instead\n",
      "  df = pd.read_csv('balance.txt', delim_whitespace=True)\n"
     ]
    }
   ],
   "source": [
    "# Create a DataFrame with balance.txt\n",
    "df = pd.read_csv('balance.txt', delim_whitespace=True)"
   ]
  },
  {
   "cell_type": "markdown",
   "metadata": {
    "id": "_LXpBJXZLYoh"
   },
   "source": [
    "Write the code needed to produce a report that provides the following information:\n",
    "* Compare the average income based on ethnicity. \n",
    "* On average, do married or single people have a higher balance?\n",
    "* What is the highest income in our dataset?\n",
    "* What is the lowest income in our dataset?\n",
    "* How many cards do we have recorded in our dataset? (Hint: use `sum()`)\n",
    "* How many females do we have information for vs how many males? (Hint: use `count()`For a list of all methods for computation of descriptive stats, explore the [pandas documentation](https://pandas.pydata.org/pandas-docs/stable/reference/frame.html#computations-descriptive-stats)). \n",
    "\n",
    "\n"
   ]
  },
  {
   "cell_type": "markdown",
   "metadata": {},
   "source": [
    "**Report**"
   ]
  },
  {
   "cell_type": "code",
   "execution_count": 7,
   "metadata": {},
   "outputs": [
    {
     "name": "stdout",
     "output_type": "stream",
     "text": [
      "                     Income\n",
      "Ethnicity                  \n",
      "African American  47.682101\n",
      "Asian             44.187833\n",
      "Caucasian         44.521945\n"
     ]
    }
   ],
   "source": [
    "# Compare the average income based on ethnicity.\n",
    "print(df.groupby(['Ethnicity'])[['Income']].mean(numeric_only=True))"
   ]
  },
  {
   "cell_type": "code",
   "execution_count": 8,
   "metadata": {},
   "outputs": [
    {
     "name": "stdout",
     "output_type": "stream",
     "text": [
      "The average balance of a single person is: 13.493509015134242\n",
      "The average balance of a married person is: 13.388473477498913\n",
      "That means that on average, single people have a higher balance.\n"
     ]
    }
   ],
   "source": [
    "# Compare average balance of single and married people.\n",
    "print(\"The average balance of a single person is:\", df[df.Married == \"No\"].loc[:,\"Balance\"].mean())\n",
    "print(\"The average balance of a married person is:\", df[df.Married == \"Yes\"].loc[:,\"Balance\"].mean())\n",
    "print(\"That means that on average, single people have a higher balance.\")"
   ]
  },
  {
   "cell_type": "code",
   "execution_count": 9,
   "metadata": {},
   "outputs": [
    {
     "name": "stdout",
     "output_type": "stream",
     "text": [
      "The highest income in this dataset is: 186.634\n"
     ]
    }
   ],
   "source": [
    "# What is the highest income in our dataset?\n",
    "print(\"The highest income in this dataset is:\", df.loc[:,\"Income\"].max())"
   ]
  },
  {
   "cell_type": "code",
   "execution_count": 10,
   "metadata": {},
   "outputs": [
    {
     "name": "stdout",
     "output_type": "stream",
     "text": [
      "The lowest income in this dataset is: 10.354\n"
     ]
    }
   ],
   "source": [
    "# What is the lowest income in our dataset?\n",
    "print(\"The lowest income in this dataset is:\", df.loc[:,\"Income\"].min())"
   ]
  },
  {
   "cell_type": "code",
   "execution_count": 11,
   "metadata": {},
   "outputs": [
    {
     "name": "stdout",
     "output_type": "stream",
     "text": [
      "The total amount of cards recorded in our dataset is: 1183\n"
     ]
    }
   ],
   "source": [
    "# How many cards do we have recorded in out dataset?\n",
    "print(\"The total amount of cards recorded in our dataset is:\", df.loc[:,\"Cards\"].sum())"
   ]
  },
  {
   "cell_type": "code",
   "execution_count": 19,
   "metadata": {},
   "outputs": [
    {
     "name": "stdout",
     "output_type": "stream",
     "text": [
      "Amount of females in database: 207\n",
      "Amount of males in database: 193\n"
     ]
    },
    {
     "data": {
      "text/plain": [
       "Gender\n",
       "Female    207\n",
       "Male      193\n",
       "Name: count, dtype: int64"
      ]
     },
     "execution_count": 19,
     "metadata": {},
     "output_type": "execute_result"
    }
   ],
   "source": [
    "# How many females do we have information for vs how many males?\n",
    "print(\"Amount of females in database:\", (df == 'Female').values.sum())\n",
    "print(\"Amount of males in database:\", (df == 'Male').values.sum())\n",
    "\n",
    "# Another way to get the result:\n",
    "df['Gender'].value_counts()"
   ]
  }
 ],
 "metadata": {
  "colab": {
   "authorship_tag": "ABX9TyP5J3xG1JXUCQAkP9OLQqdU",
   "provenance": []
  },
  "kernelspec": {
   "display_name": "Python 3",
   "name": "python3"
  },
  "language_info": {
   "codemirror_mode": {
    "name": "ipython",
    "version": 3
   },
   "file_extension": ".py",
   "mimetype": "text/x-python",
   "name": "python",
   "nbconvert_exporter": "python",
   "pygments_lexer": "ipython3",
   "version": "3.13.2"
  }
 },
 "nbformat": 4,
 "nbformat_minor": 0
}
